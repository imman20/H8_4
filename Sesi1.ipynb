{
 "cells": [
  {
   "cell_type": "markdown",
   "id": "c96ff7e5",
   "metadata": {},
   "source": [
    "## Integer"
   ]
  },
  {
   "cell_type": "code",
   "execution_count": 1,
   "id": "63b60e14",
   "metadata": {},
   "outputs": [
    {
     "data": {
      "text/plain": [
       "12345"
      ]
     },
     "execution_count": 1,
     "metadata": {},
     "output_type": "execute_result"
    }
   ],
   "source": [
    "12345"
   ]
  },
  {
   "cell_type": "code",
   "execution_count": 2,
   "id": "0fb5a552",
   "metadata": {},
   "outputs": [
    {
     "data": {
      "text/plain": [
       "-123415"
      ]
     },
     "execution_count": 2,
     "metadata": {},
     "output_type": "execute_result"
    }
   ],
   "source": [
    "-123415"
   ]
  },
  {
   "cell_type": "code",
   "execution_count": 3,
   "id": "763e59fd",
   "metadata": {},
   "outputs": [
    {
     "name": "stdout",
     "output_type": "stream",
     "text": [
      "0\n"
     ]
    }
   ],
   "source": [
    "print(0)"
   ]
  },
  {
   "cell_type": "markdown",
   "id": "58e2a5c8",
   "metadata": {},
   "source": [
    "## Float"
   ]
  },
  {
   "cell_type": "code",
   "execution_count": 4,
   "id": "e7ce3846",
   "metadata": {},
   "outputs": [
    {
     "data": {
      "text/plain": [
       "2.3"
      ]
     },
     "execution_count": 4,
     "metadata": {},
     "output_type": "execute_result"
    }
   ],
   "source": [
    "2.3"
   ]
  },
  {
   "cell_type": "code",
   "execution_count": 5,
   "id": "3f152bf8",
   "metadata": {},
   "outputs": [
    {
     "name": "stdout",
     "output_type": "stream",
     "text": [
      "-2.3\n"
     ]
    }
   ],
   "source": [
    "print(-2.3)"
   ]
  },
  {
   "cell_type": "code",
   "execution_count": 6,
   "id": "d24f548f",
   "metadata": {},
   "outputs": [
    {
     "name": "stdout",
     "output_type": "stream",
     "text": [
      "0.4\n",
      "0.4\n",
      "2300000.0\n",
      "0.0005\n"
     ]
    }
   ],
   "source": [
    "print(0.4)\n",
    "print(.4)\n",
    "print(2.3e6)\n",
    "print(5e-4)"
   ]
  },
  {
   "cell_type": "markdown",
   "id": "16b4e156",
   "metadata": {},
   "source": [
    "## String"
   ]
  },
  {
   "cell_type": "code",
   "execution_count": 7,
   "id": "d26fe32b",
   "metadata": {},
   "outputs": [
    {
     "name": "stdout",
     "output_type": "stream",
     "text": [
      "Hello World!\n",
      "1234\n",
      "Hacktiv8\n",
      "This string contains a quote (\")\n",
      "This string contains a single quote (')\n"
     ]
    }
   ],
   "source": [
    "print(\"Hello World!\")\n",
    "print(\"1234\")\n",
    "print('Hacktiv8')\n",
    "print('This string contains a quote (\")')\n",
    "print(\"This string contains a single quote (')\")"
   ]
  },
  {
   "cell_type": "markdown",
   "id": "934d39ae",
   "metadata": {},
   "source": [
    "## Booelan"
   ]
  },
  {
   "cell_type": "code",
   "execution_count": 8,
   "id": "f3576b81",
   "metadata": {},
   "outputs": [
    {
     "name": "stdout",
     "output_type": "stream",
     "text": [
      "True\n",
      "False\n"
     ]
    }
   ],
   "source": [
    "print(True)\n",
    "print(False)"
   ]
  },
  {
   "cell_type": "code",
   "execution_count": 9,
   "id": "dc47ea2e",
   "metadata": {},
   "outputs": [
    {
     "name": "stdout",
     "output_type": "stream",
     "text": [
      "<class 'bool'>\n"
     ]
    }
   ],
   "source": [
    "print(type(True))"
   ]
  },
  {
   "cell_type": "markdown",
   "id": "f55426f0",
   "metadata": {},
   "source": [
    "## Variabel Assigment"
   ]
  },
  {
   "cell_type": "code",
   "execution_count": 10,
   "id": "f953ea3a",
   "metadata": {},
   "outputs": [],
   "source": [
    "x = 300"
   ]
  },
  {
   "cell_type": "code",
   "execution_count": 12,
   "id": "e57624fa",
   "metadata": {},
   "outputs": [
    {
     "name": "stdout",
     "output_type": "stream",
     "text": [
      "300\n"
     ]
    }
   ],
   "source": [
    "print(x)"
   ]
  },
  {
   "cell_type": "code",
   "execution_count": 13,
   "id": "87fafd62",
   "metadata": {},
   "outputs": [],
   "source": [
    "x = 300 + 50"
   ]
  },
  {
   "cell_type": "code",
   "execution_count": 14,
   "id": "c5837096",
   "metadata": {},
   "outputs": [
    {
     "name": "stdout",
     "output_type": "stream",
     "text": [
      "350\n"
     ]
    }
   ],
   "source": [
    "print(x)"
   ]
  },
  {
   "cell_type": "code",
   "execution_count": 15,
   "id": "d27eb70d",
   "metadata": {},
   "outputs": [],
   "source": [
    "a = b = c = 500"
   ]
  },
  {
   "cell_type": "code",
   "execution_count": 16,
   "id": "4f7c5354",
   "metadata": {},
   "outputs": [
    {
     "name": "stdout",
     "output_type": "stream",
     "text": [
      "500\n",
      "500\n",
      "500\n"
     ]
    }
   ],
   "source": [
    "print(a)\n",
    "print(b)\n",
    "print(c)"
   ]
  },
  {
   "cell_type": "code",
   "execution_count": 17,
   "id": "bb10b059",
   "metadata": {},
   "outputs": [],
   "source": [
    "a = 23.4\n",
    "b = True\n",
    "c = \"ABCDEFG\"\n",
    "d = 5"
   ]
  },
  {
   "cell_type": "code",
   "execution_count": 18,
   "id": "cf2ea10f",
   "metadata": {},
   "outputs": [
    {
     "name": "stdout",
     "output_type": "stream",
     "text": [
      "<class 'float'>\n",
      "<class 'bool'>\n",
      "<class 'str'>\n",
      "<class 'int'>\n"
     ]
    }
   ],
   "source": [
    "print(type(a))\n",
    "print(type(b))\n",
    "print(type(c))\n",
    "print(type(d))"
   ]
  },
  {
   "cell_type": "code",
   "execution_count": 19,
   "id": "817fe06c",
   "metadata": {},
   "outputs": [],
   "source": [
    "a = \"STRING1\""
   ]
  },
  {
   "cell_type": "code",
   "execution_count": 21,
   "id": "3fab6799",
   "metadata": {},
   "outputs": [
    {
     "name": "stdout",
     "output_type": "stream",
     "text": [
      "STRING1\n",
      "<class 'str'>\n"
     ]
    }
   ],
   "source": [
    "print(a)\n",
    "print(type(a))"
   ]
  },
  {
   "cell_type": "code",
   "execution_count": 22,
   "id": "8c1475d6",
   "metadata": {},
   "outputs": [
    {
     "data": {
      "text/plain": [
       "'STRING1'"
      ]
     },
     "execution_count": 22,
     "metadata": {},
     "output_type": "execute_result"
    }
   ],
   "source": [
    "a"
   ]
  },
  {
   "cell_type": "code",
   "execution_count": 23,
   "id": "56d029a6",
   "metadata": {},
   "outputs": [],
   "source": [
    "A = \"dfga\""
   ]
  },
  {
   "cell_type": "code",
   "execution_count": 24,
   "id": "09f34e5b",
   "metadata": {},
   "outputs": [
    {
     "name": "stdout",
     "output_type": "stream",
     "text": [
      "STRING1\n",
      "dfga\n"
     ]
    }
   ],
   "source": [
    "print(a)\n",
    "print(A)"
   ]
  },
  {
   "cell_type": "code",
   "execution_count": 25,
   "id": "cfcd1e82",
   "metadata": {},
   "outputs": [],
   "source": [
    "umur = 43\n",
    "nama_depan = \"imman\"\n",
    "has_laptops = True\n",
    "\n",
    "namaDepan = 'immann'\n",
    "hasLaptops = False"
   ]
  },
  {
   "cell_type": "code",
   "execution_count": 26,
   "id": "32c91b07",
   "metadata": {},
   "outputs": [],
   "source": [
    "naga10 = 123"
   ]
  },
  {
   "cell_type": "code",
   "execution_count": 27,
   "id": "6bfa214c",
   "metadata": {},
   "outputs": [
    {
     "data": {
      "text/plain": [
       "123"
      ]
     },
     "execution_count": 27,
     "metadata": {},
     "output_type": "execute_result"
    }
   ],
   "source": [
    "naga10"
   ]
  },
  {
   "cell_type": "markdown",
   "id": "e95d1b4a",
   "metadata": {},
   "source": [
    "## Operators"
   ]
  },
  {
   "cell_type": "code",
   "execution_count": 28,
   "id": "c124ef8a",
   "metadata": {},
   "outputs": [
    {
     "data": {
      "text/plain": [
       "11"
      ]
     },
     "execution_count": 28,
     "metadata": {},
     "output_type": "execute_result"
    }
   ],
   "source": [
    "5 + 6"
   ]
  },
  {
   "cell_type": "code",
   "execution_count": 29,
   "id": "805df6dd",
   "metadata": {},
   "outputs": [
    {
     "data": {
      "text/plain": [
       "-3"
      ]
     },
     "execution_count": 29,
     "metadata": {},
     "output_type": "execute_result"
    }
   ],
   "source": [
    "4 - 7"
   ]
  },
  {
   "cell_type": "code",
   "execution_count": 30,
   "id": "1eeac55e",
   "metadata": {},
   "outputs": [
    {
     "data": {
      "text/plain": [
       "15"
      ]
     },
     "execution_count": 30,
     "metadata": {},
     "output_type": "execute_result"
    }
   ],
   "source": [
    "3 * 5"
   ]
  },
  {
   "cell_type": "code",
   "execution_count": 31,
   "id": "40f3129c",
   "metadata": {},
   "outputs": [
    {
     "data": {
      "text/plain": [
       "0.7"
      ]
     },
     "execution_count": 31,
     "metadata": {},
     "output_type": "execute_result"
    }
   ],
   "source": [
    "7/10"
   ]
  },
  {
   "cell_type": "code",
   "execution_count": 32,
   "id": "99bc0b6a",
   "metadata": {},
   "outputs": [
    {
     "data": {
      "text/plain": [
       "32"
      ]
     },
     "execution_count": 32,
     "metadata": {},
     "output_type": "execute_result"
    }
   ],
   "source": [
    "2 ** 5"
   ]
  },
  {
   "cell_type": "code",
   "execution_count": 33,
   "id": "88d4afd3",
   "metadata": {},
   "outputs": [
    {
     "data": {
      "text/plain": [
       "1"
      ]
     },
     "execution_count": 33,
     "metadata": {},
     "output_type": "execute_result"
    }
   ],
   "source": [
    "15 % 7"
   ]
  },
  {
   "cell_type": "code",
   "execution_count": 34,
   "id": "e2c5c644",
   "metadata": {},
   "outputs": [
    {
     "name": "stdout",
     "output_type": "stream",
     "text": [
      "7\n",
      "30\n",
      "0.8333333333333334\n"
     ]
    }
   ],
   "source": [
    "a = 5\n",
    "b = 6\n",
    "print(a+b-4)\n",
    "print(a*b)\n",
    "print(a/b)"
   ]
  },
  {
   "cell_type": "markdown",
   "id": "2945801c",
   "metadata": {},
   "source": [
    "## Comparasion"
   ]
  },
  {
   "cell_type": "code",
   "execution_count": 35,
   "id": "f5317614",
   "metadata": {},
   "outputs": [
    {
     "name": "stdout",
     "output_type": "stream",
     "text": [
      "False\n",
      "True\n",
      "True\n",
      "False\n",
      "False\n",
      "True\n"
     ]
    }
   ],
   "source": [
    "a = 10\n",
    "b = 20\n",
    "\n",
    "print(a == b)\n",
    "print(a != b)\n",
    "print(a <= b)\n",
    "print(a >= b)\n",
    "print(a > b)\n",
    "print(a < b)"
   ]
  },
  {
   "cell_type": "code",
   "execution_count": 36,
   "id": "25aff1f4",
   "metadata": {},
   "outputs": [
    {
     "name": "stdout",
     "output_type": "stream",
     "text": [
      "True\n",
      "True\n",
      "False\n",
      "True\n",
      "False\n"
     ]
    }
   ],
   "source": [
    "a = 30\n",
    "b = 30\n",
    "\n",
    "print(a == b)\n",
    "print(a >= b) # True\n",
    "print(a > b) # False\n",
    "print(a <= b)\n",
    "print(a < b)"
   ]
  },
  {
   "cell_type": "code",
   "execution_count": 37,
   "id": "767a56ce",
   "metadata": {},
   "outputs": [
    {
     "data": {
      "text/plain": [
       "True"
      ]
     },
     "execution_count": 37,
     "metadata": {},
     "output_type": "execute_result"
    }
   ],
   "source": [
    "b > 25"
   ]
  },
  {
   "cell_type": "markdown",
   "id": "585e8322",
   "metadata": {},
   "source": [
    "## String Manipulation"
   ]
  },
  {
   "cell_type": "code",
   "execution_count": 39,
   "id": "226686b8",
   "metadata": {},
   "outputs": [],
   "source": [
    "a = 'abc'\n",
    "b = 'def'\n",
    "c = 'hij'"
   ]
  },
  {
   "cell_type": "code",
   "execution_count": 40,
   "id": "d87d7661",
   "metadata": {},
   "outputs": [
    {
     "name": "stdout",
     "output_type": "stream",
     "text": [
      "abcdef\n",
      "abc def\n"
     ]
    }
   ],
   "source": [
    "print(a + b)\n",
    "print(a + \" \" + b)"
   ]
  },
  {
   "cell_type": "code",
   "execution_count": 41,
   "id": "7e3c2a5f",
   "metadata": {},
   "outputs": [
    {
     "data": {
      "text/plain": [
       "'abc def'"
      ]
     },
     "execution_count": 41,
     "metadata": {},
     "output_type": "execute_result"
    }
   ],
   "source": [
    "\"abc def\""
   ]
  },
  {
   "cell_type": "code",
   "execution_count": 42,
   "id": "560d2869",
   "metadata": {},
   "outputs": [
    {
     "data": {
      "text/plain": [
       "'abcabcabcabc'"
      ]
     },
     "execution_count": 42,
     "metadata": {},
     "output_type": "execute_result"
    }
   ],
   "source": [
    "x = 'abc'\n",
    "\n",
    "x * 4"
   ]
  },
  {
   "cell_type": "code",
   "execution_count": 44,
   "id": "602588ab",
   "metadata": {},
   "outputs": [
    {
     "data": {
      "text/plain": [
       "False"
      ]
     },
     "execution_count": 44,
     "metadata": {},
     "output_type": "execute_result"
    }
   ],
   "source": [
    "s  = 'foo'\n",
    "\n",
    "s in \"That is good for us\""
   ]
  },
  {
   "cell_type": "code",
   "execution_count": 45,
   "id": "49e45b49",
   "metadata": {},
   "outputs": [
    {
     "data": {
      "text/plain": [
       "True"
      ]
     },
     "execution_count": 45,
     "metadata": {},
     "output_type": "execute_result"
    }
   ],
   "source": [
    "s in \"That is food for us\""
   ]
  },
  {
   "cell_type": "code",
   "execution_count": 46,
   "id": "ff7c2c8a",
   "metadata": {},
   "outputs": [
    {
     "data": {
      "text/plain": [
       "False"
      ]
     },
     "execution_count": 46,
     "metadata": {},
     "output_type": "execute_result"
    }
   ],
   "source": [
    "\"one\" > \"two\""
   ]
  },
  {
   "cell_type": "code",
   "execution_count": 47,
   "id": "f3b07773",
   "metadata": {},
   "outputs": [
    {
     "data": {
      "text/plain": [
       "False"
      ]
     },
     "execution_count": 47,
     "metadata": {},
     "output_type": "execute_result"
    }
   ],
   "source": [
    "\"aaaaa\" < \"aaaa\""
   ]
  },
  {
   "cell_type": "code",
   "execution_count": 48,
   "id": "f8304484",
   "metadata": {},
   "outputs": [
    {
     "data": {
      "text/plain": [
       "False"
      ]
     },
     "execution_count": 48,
     "metadata": {},
     "output_type": "execute_result"
    }
   ],
   "source": [
    "'foo' == \"That is food for us\""
   ]
  },
  {
   "cell_type": "code",
   "execution_count": 49,
   "id": "164b2976",
   "metadata": {},
   "outputs": [
    {
     "data": {
      "text/plain": [
       "True"
      ]
     },
     "execution_count": 49,
     "metadata": {},
     "output_type": "execute_result"
    }
   ],
   "source": [
    "'foo' in \"That is food for us\""
   ]
  },
  {
   "cell_type": "code",
   "execution_count": 50,
   "id": "90f0ae73",
   "metadata": {},
   "outputs": [
    {
     "name": "stdout",
     "output_type": "stream",
     "text": [
      "Hacktiv8 abds\n",
      "hacktiv8 abds\n",
      "HACKtiv8 ABDS\n",
      "Hacktiv8 Abds\n",
      "HACKTIV8 ABDS\n"
     ]
    }
   ],
   "source": [
    "\n",
    "s = 'hackTIV8 abds'\n",
    "\n",
    "print(s.capitalize())\n",
    "print(s.lower())\n",
    "print(s.swapcase())\n",
    "print(s.title())\n",
    "print(s.upper())"
   ]
  },
  {
   "cell_type": "markdown",
   "id": "ff4cafe9",
   "metadata": {},
   "source": [
    "## List"
   ]
  },
  {
   "cell_type": "code",
   "execution_count": 51,
   "id": "266ab48d",
   "metadata": {},
   "outputs": [],
   "source": [
    "list1 = [1,2,3,4,5]\n",
    "list2 = [\"abc\", \"def\", \"hij\"]\n",
    "list3 = [\"abc\", 3.4, 1, True]"
   ]
  },
  {
   "cell_type": "code",
   "execution_count": 52,
   "id": "fe0bad2f",
   "metadata": {},
   "outputs": [
    {
     "name": "stdout",
     "output_type": "stream",
     "text": [
      "[1, 2, 3, 4, 5]\n",
      "['abc', 'def', 'hij']\n",
      "['abc', 3.4, 1, True]\n"
     ]
    }
   ],
   "source": [
    "print(list1)\n",
    "print(list2)\n",
    "print(list3)"
   ]
  },
  {
   "cell_type": "code",
   "execution_count": 53,
   "id": "2be51250",
   "metadata": {},
   "outputs": [
    {
     "data": {
      "text/plain": [
       "True"
      ]
     },
     "execution_count": 53,
     "metadata": {},
     "output_type": "execute_result"
    }
   ],
   "source": [
    "list2[-1] == list2[2]"
   ]
  },
  {
   "cell_type": "code",
   "execution_count": 54,
   "id": "1606acc7",
   "metadata": {},
   "outputs": [
    {
     "data": {
      "text/plain": [
       "'abc'"
      ]
     },
     "execution_count": 54,
     "metadata": {},
     "output_type": "execute_result"
    }
   ],
   "source": [
    "list2[-3]"
   ]
  },
  {
   "cell_type": "code",
   "execution_count": 55,
   "id": "a37ed589",
   "metadata": {},
   "outputs": [],
   "source": [
    "s = s.title()"
   ]
  },
  {
   "cell_type": "code",
   "execution_count": 56,
   "id": "f7da713f",
   "metadata": {},
   "outputs": [
    {
     "data": {
      "text/plain": [
       "'Hacktiv8 Abds'"
      ]
     },
     "execution_count": 56,
     "metadata": {},
     "output_type": "execute_result"
    }
   ],
   "source": [
    "s"
   ]
  },
  {
   "cell_type": "code",
   "execution_count": 57,
   "id": "90256261",
   "metadata": {},
   "outputs": [
    {
     "data": {
      "text/plain": [
       "'H'"
      ]
     },
     "execution_count": 57,
     "metadata": {},
     "output_type": "execute_result"
    }
   ],
   "source": [
    "s[0]"
   ]
  },
  {
   "cell_type": "code",
   "execution_count": 58,
   "id": "674d7269",
   "metadata": {},
   "outputs": [
    {
     "data": {
      "text/plain": [
       "[4, 3, 4, 3, 4, 3]"
      ]
     },
     "execution_count": 58,
     "metadata": {},
     "output_type": "execute_result"
    }
   ],
   "source": [
    "[4,3] * 3"
   ]
  },
  {
   "cell_type": "code",
   "execution_count": 59,
   "id": "97969c13",
   "metadata": {},
   "outputs": [],
   "source": [
    "list2 = [\"abc\", \"def\", \"hij\", \"klm\", \"nop\"]"
   ]
  },
  {
   "cell_type": "code",
   "execution_count": 60,
   "id": "dd7aeddc",
   "metadata": {},
   "outputs": [
    {
     "data": {
      "text/plain": [
       "['def', 'hij', 'klm']"
      ]
     },
     "execution_count": 60,
     "metadata": {},
     "output_type": "execute_result"
    }
   ],
   "source": [
    "list2[1:4]"
   ]
  },
  {
   "cell_type": "code",
   "execution_count": 61,
   "id": "7a2d19c5",
   "metadata": {},
   "outputs": [
    {
     "data": {
      "text/plain": [
       "'acktiv'"
      ]
     },
     "execution_count": 61,
     "metadata": {},
     "output_type": "execute_result"
    }
   ],
   "source": [
    "s[1:7]"
   ]
  },
  {
   "cell_type": "code",
   "execution_count": 62,
   "id": "22859457",
   "metadata": {},
   "outputs": [],
   "source": [
    "list1 = [1,2,3,4,100]\n",
    "list2 = [\"abc\", \"zef\", \"hij\"]\n",
    "list3 = [\"abc\", 3.4, 1, True]"
   ]
  },
  {
   "cell_type": "code",
   "execution_count": 63,
   "id": "84a4221d",
   "metadata": {},
   "outputs": [
    {
     "data": {
      "text/plain": [
       "[1, 2, 3, 4, 100, 'abc', 'zef', 'hij']"
      ]
     },
     "execution_count": 63,
     "metadata": {},
     "output_type": "execute_result"
    }
   ],
   "source": [
    "list1 + list2"
   ]
  },
  {
   "cell_type": "code",
   "execution_count": 64,
   "id": "69c5ee04",
   "metadata": {},
   "outputs": [
    {
     "name": "stdout",
     "output_type": "stream",
     "text": [
      "5\n",
      "3\n"
     ]
    }
   ],
   "source": [
    "print(len(list1))\n",
    "print(len(list2))"
   ]
  },
  {
   "cell_type": "code",
   "execution_count": 65,
   "id": "b8356e97",
   "metadata": {},
   "outputs": [
    {
     "name": "stdout",
     "output_type": "stream",
     "text": [
      "Hacktiv8 Abds\n",
      "13\n"
     ]
    }
   ],
   "source": [
    "print(s)\n",
    "print(len(s))"
   ]
  },
  {
   "cell_type": "code",
   "execution_count": 66,
   "id": "07a4c791",
   "metadata": {},
   "outputs": [
    {
     "name": "stdout",
     "output_type": "stream",
     "text": [
      "100\n",
      "zef\n"
     ]
    }
   ],
   "source": [
    "print(max(list1))\n",
    "print(max(list2))\n",
    "# print(max(list3))"
   ]
  },
  {
   "cell_type": "code",
   "execution_count": 67,
   "id": "4bb33fd4",
   "metadata": {},
   "outputs": [
    {
     "name": "stdout",
     "output_type": "stream",
     "text": [
      "1\n",
      "abc\n"
     ]
    }
   ],
   "source": [
    "print(min(list1))\n",
    "print(min(list2))"
   ]
  },
  {
   "cell_type": "code",
   "execution_count": 68,
   "id": "39a77807",
   "metadata": {},
   "outputs": [
    {
     "data": {
      "text/plain": [
       "[1, 2, 3, 4, 100]"
      ]
     },
     "execution_count": 68,
     "metadata": {},
     "output_type": "execute_result"
    }
   ],
   "source": [
    "list1"
   ]
  },
  {
   "cell_type": "code",
   "execution_count": 69,
   "id": "8d35c7bb",
   "metadata": {},
   "outputs": [],
   "source": [
    "list1[2] = 45"
   ]
  },
  {
   "cell_type": "code",
   "execution_count": 70,
   "id": "b7ca308a",
   "metadata": {},
   "outputs": [],
   "source": [
    "list1[-2] = 123"
   ]
  },
  {
   "cell_type": "code",
   "execution_count": 71,
   "id": "24ce8c9c",
   "metadata": {},
   "outputs": [
    {
     "data": {
      "text/plain": [
       "[1, 2, 45, 123, 100]"
      ]
     },
     "execution_count": 71,
     "metadata": {},
     "output_type": "execute_result"
    }
   ],
   "source": [
    "list1"
   ]
  },
  {
   "cell_type": "code",
   "execution_count": 72,
   "id": "5381da55",
   "metadata": {},
   "outputs": [],
   "source": [
    "del list1[3]"
   ]
  },
  {
   "cell_type": "code",
   "execution_count": 74,
   "id": "2245c9bc",
   "metadata": {},
   "outputs": [
    {
     "data": {
      "text/plain": [
       "[1, 2, 45, 100]"
      ]
     },
     "execution_count": 74,
     "metadata": {},
     "output_type": "execute_result"
    }
   ],
   "source": [
    "list1"
   ]
  },
  {
   "cell_type": "code",
   "execution_count": 75,
   "id": "ceae0cb3",
   "metadata": {},
   "outputs": [
    {
     "data": {
      "text/plain": [
       "100"
      ]
     },
     "execution_count": 75,
     "metadata": {},
     "output_type": "execute_result"
    }
   ],
   "source": [
    "list1[3]"
   ]
  },
  {
   "cell_type": "code",
   "execution_count": 76,
   "id": "392bdff9",
   "metadata": {},
   "outputs": [],
   "source": [
    "list2 = [\"abc\", \"def\", \"hij\", \"klm\", \"nop\"]"
   ]
  },
  {
   "cell_type": "code",
   "execution_count": 77,
   "id": "97533b1c",
   "metadata": {},
   "outputs": [],
   "source": [
    "list2[1:4] = ['a', 'b', 'c']"
   ]
  },
  {
   "cell_type": "code",
   "execution_count": 78,
   "id": "a2a6172c",
   "metadata": {},
   "outputs": [
    {
     "data": {
      "text/plain": [
       "['abc', 'a', 'b', 'c', 'nop']"
      ]
     },
     "execution_count": 78,
     "metadata": {},
     "output_type": "execute_result"
    }
   ],
   "source": [
    "list2"
   ]
  },
  {
   "cell_type": "code",
   "execution_count": 79,
   "id": "73a79e32",
   "metadata": {},
   "outputs": [],
   "source": [
    "list2[1:4] = ['a', 'b']"
   ]
  },
  {
   "cell_type": "code",
   "execution_count": 81,
   "id": "6b120cfe",
   "metadata": {},
   "outputs": [
    {
     "data": {
      "text/plain": [
       "['abc', 'a', 'b', 'nop']"
      ]
     },
     "execution_count": 81,
     "metadata": {},
     "output_type": "execute_result"
    }
   ],
   "source": [
    "list2"
   ]
  },
  {
   "cell_type": "markdown",
   "id": "edcb6842",
   "metadata": {},
   "source": [
    "## Tuples"
   ]
  },
  {
   "cell_type": "code",
   "execution_count": 82,
   "id": "b24028bb",
   "metadata": {},
   "outputs": [],
   "source": [
    "tuple1 = (1,2,3,4,100)\n",
    "tuple2 = (\"abc\", \"def\", \"hij\", \"klm\", \"nop\")"
   ]
  },
  {
   "cell_type": "code",
   "execution_count": 83,
   "id": "14ce0462",
   "metadata": {},
   "outputs": [
    {
     "data": {
      "text/plain": [
       "100"
      ]
     },
     "execution_count": 83,
     "metadata": {},
     "output_type": "execute_result"
    }
   ],
   "source": [
    "tuple1[-1]"
   ]
  },
  {
   "cell_type": "code",
   "execution_count": 85,
   "id": "6621300e",
   "metadata": {},
   "outputs": [],
   "source": [
    "(a,b,c,d,e) = tuple1"
   ]
  },
  {
   "cell_type": "code",
   "execution_count": 86,
   "id": "21a1144c",
   "metadata": {},
   "outputs": [
    {
     "name": "stdout",
     "output_type": "stream",
     "text": [
      "1\n",
      "2\n",
      "3\n",
      "4\n",
      "100\n"
     ]
    }
   ],
   "source": [
    "print(a)\n",
    "print(b)\n",
    "print(c)\n",
    "print(d)\n",
    "print(e)"
   ]
  },
  {
   "cell_type": "code",
   "execution_count": 87,
   "id": "0430553b",
   "metadata": {},
   "outputs": [],
   "source": [
    "titik1 = (3,4)"
   ]
  },
  {
   "cell_type": "markdown",
   "id": "677cf95a",
   "metadata": {},
   "source": [
    "## Dictionary"
   ]
  },
  {
   "cell_type": "code",
   "execution_count": 88,
   "id": "9614ec14",
   "metadata": {},
   "outputs": [],
   "source": [
    "list1 = [1,2,3,4,100]\n",
    "list2 = [\"abc\", \"def\", \"hij\", \"klm\", \"nop\"]"
   ]
  },
  {
   "cell_type": "code",
   "execution_count": 89,
   "id": "435a52aa",
   "metadata": {},
   "outputs": [
    {
     "data": {
      "text/plain": [
       "3"
      ]
     },
     "execution_count": 89,
     "metadata": {},
     "output_type": "execute_result"
    }
   ],
   "source": [
    "list1[2]"
   ]
  },
  {
   "cell_type": "code",
   "execution_count": 90,
   "id": "3f7b7e78",
   "metadata": {},
   "outputs": [],
   "source": [
    "dictionary1 = {\n",
    "    'pertama': 1,\n",
    "    'kedua': 2,\n",
    "    'ketiga': 3,\n",
    "    'keempat': 4\n",
    "}"
   ]
  },
  {
   "cell_type": "code",
   "execution_count": 91,
   "id": "39d3031f",
   "metadata": {},
   "outputs": [
    {
     "data": {
      "text/plain": [
       "3"
      ]
     },
     "execution_count": 91,
     "metadata": {},
     "output_type": "execute_result"
    }
   ],
   "source": [
    "dictionary1['ketiga']"
   ]
  },
  {
   "cell_type": "code",
   "execution_count": 92,
   "id": "978a6531",
   "metadata": {},
   "outputs": [],
   "source": [
    "dictionary2 = {\n",
    "    'London': 'Arsenal FC',\n",
    "    'Liverpool': 'Liverpool FC',\n",
    "    'Manchaster': 'Manchaster City'\n",
    "}"
   ]
  },
  {
   "cell_type": "code",
   "execution_count": 93,
   "id": "90f13654",
   "metadata": {},
   "outputs": [],
   "source": [
    "dictionary2['London'] = 'Spurs'"
   ]
  },
  {
   "cell_type": "code",
   "execution_count": 94,
   "id": "e83be5c2",
   "metadata": {},
   "outputs": [],
   "source": [
    "del dictionary2['London']"
   ]
  },
  {
   "cell_type": "code",
   "execution_count": 95,
   "id": "1f9e5d17",
   "metadata": {},
   "outputs": [],
   "source": [
    "dictionary2['London'] = 'Arsenal FC'"
   ]
  },
  {
   "cell_type": "code",
   "execution_count": 96,
   "id": "a41c0d6a",
   "metadata": {},
   "outputs": [
    {
     "ename": "SyntaxError",
     "evalue": "invalid syntax (1586119281.py, line 1)",
     "output_type": "error",
     "traceback": [
      "\u001b[1;36m  File \u001b[1;32m\"C:\\Users\\Immantaka Juniarsa\\AppData\\Local\\Temp\\ipykernel_14764\\1586119281.py\"\u001b[1;36m, line \u001b[1;32m1\u001b[0m\n\u001b[1;33m    dictionary2[]\u001b[0m\n\u001b[1;37m                ^\u001b[0m\n\u001b[1;31mSyntaxError\u001b[0m\u001b[1;31m:\u001b[0m invalid syntax\n"
     ]
    }
   ],
   "source": [
    "dictionary2[]"
   ]
  },
  {
   "cell_type": "code",
   "execution_count": 97,
   "id": "5703c93c",
   "metadata": {},
   "outputs": [],
   "source": [
    "data_diri = {}"
   ]
  },
  {
   "cell_type": "code",
   "execution_count": 98,
   "id": "ff9e7376",
   "metadata": {},
   "outputs": [
    {
     "name": "stdout",
     "output_type": "stream",
     "text": [
      "{}\n",
      "<class 'dict'>\n"
     ]
    }
   ],
   "source": [
    "print(data_diri)\n",
    "print(type(data_diri))"
   ]
  },
  {
   "cell_type": "code",
   "execution_count": 99,
   "id": "ba72141e",
   "metadata": {},
   "outputs": [],
   "source": [
    "data_diri['nama_depan'] = \"Agus\"\n",
    "data_diri['nama_belakang'] = \"Gunawan\"\n",
    "data_diri['umur'] = 25\n",
    "data_diri['nama_anak'] = ['a','b','c']"
   ]
  },
  {
   "cell_type": "code",
   "execution_count": 100,
   "id": "a866ed00",
   "metadata": {},
   "outputs": [
    {
     "name": "stdout",
     "output_type": "stream",
     "text": [
      "{'nama_depan': 'Agus', 'nama_belakang': 'Gunawan', 'umur': 25, 'nama_anak': ['a', 'b', 'c']}\n"
     ]
    }
   ],
   "source": [
    "print(data_diri)"
   ]
  },
  {
   "cell_type": "code",
   "execution_count": 101,
   "id": "69cf75a2",
   "metadata": {},
   "outputs": [],
   "source": [
    "data_diri['peliharaan'] = {'anjing':'bruno', 'kucing':'meong'}"
   ]
  },
  {
   "cell_type": "code",
   "execution_count": 102,
   "id": "f69fa7e8",
   "metadata": {},
   "outputs": [
    {
     "data": {
      "text/plain": [
       "'bruno'"
      ]
     },
     "execution_count": 102,
     "metadata": {},
     "output_type": "execute_result"
    }
   ],
   "source": [
    "data_diri['peliharaan']['anjing']"
   ]
  },
  {
   "cell_type": "code",
   "execution_count": 103,
   "id": "4c16a4b0",
   "metadata": {},
   "outputs": [
    {
     "data": {
      "text/plain": [
       "{'pertama': 1, 'kedua': 2, 'ketiga': 3, 'keempat': 4}"
      ]
     },
     "execution_count": 103,
     "metadata": {},
     "output_type": "execute_result"
    }
   ],
   "source": [
    "dictionary1"
   ]
  },
  {
   "cell_type": "code",
   "execution_count": 104,
   "id": "322da4a6",
   "metadata": {},
   "outputs": [
    {
     "data": {
      "text/plain": [
       "dict_items([('pertama', 1), ('kedua', 2), ('ketiga', 3), ('keempat', 4)])"
      ]
     },
     "execution_count": 104,
     "metadata": {},
     "output_type": "execute_result"
    }
   ],
   "source": [
    "dictionary1.items()"
   ]
  },
  {
   "cell_type": "code",
   "execution_count": 105,
   "id": "19e0d31b",
   "metadata": {},
   "outputs": [
    {
     "data": {
      "text/plain": [
       "dict_keys(['pertama', 'kedua', 'ketiga', 'keempat'])"
      ]
     },
     "execution_count": 105,
     "metadata": {},
     "output_type": "execute_result"
    }
   ],
   "source": [
    "dictionary1.keys()"
   ]
  },
  {
   "cell_type": "code",
   "execution_count": 106,
   "id": "8d4d371a",
   "metadata": {},
   "outputs": [
    {
     "data": {
      "text/plain": [
       "dict_values([1, 2, 3, 4])"
      ]
     },
     "execution_count": 106,
     "metadata": {},
     "output_type": "execute_result"
    }
   ],
   "source": [
    "dictionary1.values()"
   ]
  },
  {
   "cell_type": "code",
   "execution_count": 107,
   "id": "49addca7",
   "metadata": {},
   "outputs": [
    {
     "data": {
      "text/plain": [
       "True"
      ]
     },
     "execution_count": 107,
     "metadata": {},
     "output_type": "execute_result"
    }
   ],
   "source": [
    "person1_age = 42\n",
    "person2_age = 16\n",
    "person3_age = 71\n",
    "\n",
    "(person1_age >= 18 and person1_age <= 65) or \\\n",
    "    (person2_age >=18 and person2_age <=65)"
   ]
  },
  {
   "cell_type": "code",
   "execution_count": 108,
   "id": "e4cfb96d",
   "metadata": {},
   "outputs": [
    {
     "data": {
      "text/plain": [
       "True"
      ]
     },
     "execution_count": 108,
     "metadata": {},
     "output_type": "execute_result"
    }
   ],
   "source": [
    "(\n",
    "    (person1_age >= 18 and person1_age <= 65) or \n",
    "    (person2_age >=18 and person2_age <=65)\n",
    ")"
   ]
  },
  {
   "cell_type": "code",
   "execution_count": null,
   "id": "9843d1cb",
   "metadata": {},
   "outputs": [],
   "source": []
  }
 ],
 "metadata": {
  "kernelspec": {
   "display_name": "Python 3 (ipykernel)",
   "language": "python",
   "name": "python3"
  },
  "language_info": {
   "codemirror_mode": {
    "name": "ipython",
    "version": 3
   },
   "file_extension": ".py",
   "mimetype": "text/x-python",
   "name": "python",
   "nbconvert_exporter": "python",
   "pygments_lexer": "ipython3",
   "version": "3.9.13"
  }
 },
 "nbformat": 4,
 "nbformat_minor": 5
}
