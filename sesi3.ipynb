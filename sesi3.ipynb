{
 "cells": [
  {
   "cell_type": "markdown",
   "id": "f74a9580",
   "metadata": {},
   "source": [
    "## Function,Module, and Package"
   ]
  },
  {
   "cell_type": "raw",
   "id": "23420e7f",
   "metadata": {},
   "source": [
    "f(x)\n",
    "g(x)\n",
    "\n",
    "f(x)=x^2 + 2x + 3"
   ]
  },
  {
   "cell_type": "code",
   "execution_count": 2,
   "id": "645a8f51",
   "metadata": {},
   "outputs": [],
   "source": [
    "def f(x):\n",
    "    value = x**2 + (2*x) + 3\n",
    "    return value"
   ]
  },
  {
   "cell_type": "code",
   "execution_count": 7,
   "id": "3c04363c",
   "metadata": {},
   "outputs": [],
   "source": [
    "var1 = f(1)\n",
    "var2 = f(3)"
   ]
  },
  {
   "cell_type": "code",
   "execution_count": 8,
   "id": "45c7fa6f",
   "metadata": {},
   "outputs": [],
   "source": [
    "def factorials(n):\n",
    "    value = 1\n",
    "    while n > 1:\n",
    "        value*= n\n",
    "        n -= 1\n",
    "    return value"
   ]
  },
  {
   "cell_type": "code",
   "execution_count": 10,
   "id": "2872ef67",
   "metadata": {},
   "outputs": [
    {
     "data": {
      "text/plain": [
       "120"
      ]
     },
     "execution_count": 10,
     "metadata": {},
     "output_type": "execute_result"
    }
   ],
   "source": [
    "factorials(5)"
   ]
  },
  {
   "cell_type": "code",
   "execution_count": 11,
   "id": "1c3f831b",
   "metadata": {},
   "outputs": [],
   "source": [
    "def penjumlahan(bilangan1, bilangan2):\n",
    "    return bilangan1 + bilangan2"
   ]
  },
  {
   "cell_type": "code",
   "execution_count": 13,
   "id": "218dd2c3",
   "metadata": {},
   "outputs": [
    {
     "data": {
      "text/plain": [
       "14"
      ]
     },
     "execution_count": 13,
     "metadata": {},
     "output_type": "execute_result"
    }
   ],
   "source": [
    "var1 = 5\n",
    "var2 = 9\n",
    "penjumlahan(var1, var2)"
   ]
  },
  {
   "cell_type": "code",
   "execution_count": 26,
   "id": "9b4349a4",
   "metadata": {},
   "outputs": [],
   "source": [
    "def penjumlahaninputlist(list_input):\n",
    "    total = 0\n",
    "    for i in list_input:\n",
    "        total += i\n",
    "    return total"
   ]
  },
  {
   "cell_type": "code",
   "execution_count": 27,
   "id": "091d1fd1",
   "metadata": {},
   "outputs": [
    {
     "data": {
      "text/plain": [
       "110"
      ]
     },
     "execution_count": 27,
     "metadata": {},
     "output_type": "execute_result"
    }
   ],
   "source": [
    "penjumlahaninputlist([10,10,20,30,40])"
   ]
  },
  {
   "cell_type": "code",
   "execution_count": 33,
   "id": "c2edf408",
   "metadata": {
    "scrolled": true
   },
   "outputs": [
    {
     "ename": "IndentationError",
     "evalue": "unexpected indent (3600917323.py, line 4)",
     "output_type": "error",
     "traceback": [
      "\u001b[1;36m  File \u001b[1;32m\"C:\\Users\\Immantaka Juniarsa\\AppData\\Local\\Temp\\ipykernel_8960\\3600917323.py\"\u001b[1;36m, line \u001b[1;32m4\u001b[0m\n\u001b[1;33m    total += i\u001b[0m\n\u001b[1;37m    ^\u001b[0m\n\u001b[1;31mIndentationError\u001b[0m\u001b[1;31m:\u001b[0m unexpected indent\n"
     ]
    }
   ],
   "source": [
    "def penjumlahan(*val_arg):\n",
    "    print(val_arg)\n",
    "    return 0\n",
    "        total += i\n",
    "    return total"
   ]
  },
  {
   "cell_type": "code",
   "execution_count": 23,
   "id": "73efb062",
   "metadata": {},
   "outputs": [
    {
     "name": "stdout",
     "output_type": "stream",
     "text": [
      "(1, 2, 3, 4, 6)\n"
     ]
    },
    {
     "data": {
      "text/plain": [
       "0"
      ]
     },
     "execution_count": 23,
     "metadata": {},
     "output_type": "execute_result"
    }
   ],
   "source": [
    "penjumlahan(1,2,3,4,6)"
   ]
  },
  {
   "cell_type": "code",
   "execution_count": 31,
   "id": "c2467076",
   "metadata": {},
   "outputs": [],
   "source": [
    "g = lambda x: x**2 + 2*x + 3"
   ]
  },
  {
   "cell_type": "code",
   "execution_count": 32,
   "id": "3234420e",
   "metadata": {},
   "outputs": [
    {
     "data": {
      "text/plain": [
       "6"
      ]
     },
     "execution_count": 32,
     "metadata": {},
     "output_type": "execute_result"
    }
   ],
   "source": [
    "g(1)"
   ]
  },
  {
   "cell_type": "code",
   "execution_count": 34,
   "id": "ae67b91e",
   "metadata": {},
   "outputs": [],
   "source": [
    "pengalian = lambda x, y: x*y"
   ]
  },
  {
   "cell_type": "code",
   "execution_count": 35,
   "id": "8a5775bb",
   "metadata": {},
   "outputs": [
    {
     "data": {
      "text/plain": [
       "14"
      ]
     },
     "execution_count": 35,
     "metadata": {},
     "output_type": "execute_result"
    }
   ],
   "source": [
    "pengalian(2, 7)"
   ]
  },
  {
   "cell_type": "raw",
   "id": "404d495a",
   "metadata": {},
   "source": [
    "4! = 4 * 3 * 2 * 1!"
   ]
  },
  {
   "cell_type": "code",
   "execution_count": 45,
   "id": "93b6b2aa",
   "metadata": {},
   "outputs": [
    {
     "ename": "SyntaxError",
     "evalue": "invalid syntax (1217810699.py, line 2)",
     "output_type": "error",
     "traceback": [
      "\u001b[1;36m  File \u001b[1;32m\"C:\\Users\\Immantaka Juniarsa\\AppData\\Local\\Temp\\ipykernel_8960\\1217810699.py\"\u001b[1;36m, line \u001b[1;32m2\u001b[0m\n\u001b[1;33m    if (n == 1) or (n == 0)\u001b[0m\n\u001b[1;37m                           ^\u001b[0m\n\u001b[1;31mSyntaxError\u001b[0m\u001b[1;31m:\u001b[0m invalid syntax\n"
     ]
    }
   ],
   "source": [
    "def factorials(n):\n",
    "    if (n == 1) or (n == 0)\n",
    "        return 1\n",
    "    else:\n",
    "        return n * factorials(n-1)"
   ]
  },
  {
   "cell_type": "code",
   "execution_count": 46,
   "id": "d1a7b685",
   "metadata": {},
   "outputs": [
    {
     "data": {
      "text/plain": [
       "120"
      ]
     },
     "execution_count": 46,
     "metadata": {},
     "output_type": "execute_result"
    }
   ],
   "source": [
    "factorials(5)"
   ]
  },
  {
   "cell_type": "code",
   "execution_count": 50,
   "id": "7a7cd5d7",
   "metadata": {},
   "outputs": [
    {
     "name": "stdout",
     "output_type": "stream",
     "text": [
      "ini masuk prosedur\n",
      "ini adalah input pertama\n",
      "ini adalah input kedua\n"
     ]
    }
   ],
   "source": [
    "def prosedur(input1, input2):\n",
    "    print(\"ini masuk prosedur\")\n",
    "    print(input1)\n",
    "    print(input2)\n",
    "    \n",
    "prosedur(\"ini adalah input pertama\", \"ini adalah input kedua\")"
   ]
  },
  {
   "cell_type": "code",
   "execution_count": 51,
   "id": "0db56328",
   "metadata": {},
   "outputs": [
    {
     "name": "stdout",
     "output_type": "stream",
     "text": [
      "values list dalam procedure [10, 20, 30, 40, [1, 23, 4, 5]]\n",
      "values list dalam procedure [10, 20, 30, 40, [1, 23, 4, 5]]\n"
     ]
    }
   ],
   "source": [
    "def prodc (list_input):\n",
    "    list_input.append([1,23,4,5])\n",
    "    print(\"values list dalam procedure\", list_input)\n",
    "    \n",
    "list1=[10,20,30,40]\n",
    "prodc(list1)\n",
    "print(\"values list dalam procedure\", list1)"
   ]
  },
  {
   "cell_type": "code",
   "execution_count": 52,
   "id": "159159eb",
   "metadata": {},
   "outputs": [
    {
     "name": "stdout",
     "output_type": "stream",
     "text": [
      "values list dalam procedure [10, 20, 30, 40, [1, 23, 4, 5]]\n",
      "values list diluar procedure [10, 20, 30, 40, [1, 23, 4, 5]]\n"
     ]
    }
   ],
   "source": [
    "def prodc (list_input):\n",
    "    list_input.append([1,23,4,5])\n",
    "    print(\"values list dalam procedure\", list_input)\n",
    "    \n",
    "list1=[10,20,30,40]\n",
    "prodc(list1)\n",
    "print(\"values list diluar procedure\", list1)"
   ]
  },
  {
   "cell_type": "code",
   "execution_count": 54,
   "id": "c406bc4c",
   "metadata": {},
   "outputs": [
    {
     "name": "stdout",
     "output_type": "stream",
     "text": [
      "bilangan di dalam prosedur:  6\n",
      "bilangan diluar prosedur:  5\n"
     ]
    }
   ],
   "source": [
    "def tambah_satu(x):\n",
    "    x+=1\n",
    "    print(\"bilangan di dalam prosedur: \", x)\n",
    "    \n",
    "bil1=5\n",
    "tambah_satu(bil1)\n",
    "print(\"bilangan diluar prosedur: \", bil1)"
   ]
  },
  {
   "cell_type": "code",
   "execution_count": 56,
   "id": "e97a292e",
   "metadata": {},
   "outputs": [],
   "source": [
    "def prosedur_no_input(s):\n",
    "    print(\"ABC\")\n",
    "    print(\"DEF\")\n",
    "    print(s)\n",
    "    # return 0"
   ]
  },
  {
   "cell_type": "code",
   "execution_count": 60,
   "id": "bc60a306",
   "metadata": {},
   "outputs": [
    {
     "name": "stdout",
     "output_type": "stream",
     "text": [
      "ABC\n",
      "DEF\n"
     ]
    }
   ],
   "source": [
    "prosedur_no_input(s = \"INI STRING\")"
   ]
  },
  {
   "cell_type": "code",
   "execution_count": 61,
   "id": "5375fe11",
   "metadata": {},
   "outputs": [],
   "source": [
    "def pembagian(x,y):\n",
    "    return x/y"
   ]
  },
  {
   "cell_type": "code",
   "execution_count": null,
   "id": "e97f8820",
   "metadata": {},
   "outputs": [],
   "source": [
    "pembagian(y=)"
   ]
  }
 ],
 "metadata": {
  "kernelspec": {
   "display_name": "Python 3 (ipykernel)",
   "language": "python",
   "name": "python3"
  },
  "language_info": {
   "codemirror_mode": {
    "name": "ipython",
    "version": 3
   },
   "file_extension": ".py",
   "mimetype": "text/x-python",
   "name": "python",
   "nbconvert_exporter": "python",
   "pygments_lexer": "ipython3",
   "version": "3.9.13"
  }
 },
 "nbformat": 4,
 "nbformat_minor": 5
}
