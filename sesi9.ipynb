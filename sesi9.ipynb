{
 "cells": [
  {
   "cell_type": "markdown",
   "id": "11889b88",
   "metadata": {},
   "source": [
    "# statistics Descriptive"
   ]
  },
  {
   "cell_type": "code",
   "execution_count": 1,
   "id": "1eeb18d5",
   "metadata": {},
   "outputs": [],
   "source": [
    "import numpy as np\n",
    "import statistics\n",
    "import math\n",
    "import scipy.stats\n",
    "import pandas as pd\n",
    "\n",
    "%matplotlib inline\n",
    "\n",
    "import matplotlib as mpl\n",
    "import matplotlib.pyplot as plt\n",
    "import seaborn as sns"
   ]
  },
  {
   "cell_type": "code",
   "execution_count": 3,
   "id": "6902520c",
   "metadata": {},
   "outputs": [],
   "source": [
    "X = np.random.normal(loc=0,scale=1, size=10)"
   ]
  },
  {
   "cell_type": "markdown",
   "id": "3b68a409",
   "metadata": {},
   "source": [
    "## Mean"
   ]
  },
  {
   "cell_type": "code",
   "execution_count": 4,
   "id": "4e3c058b",
   "metadata": {},
   "outputs": [
    {
     "data": {
      "text/plain": [
       "-0.13890440325238307"
      ]
     },
     "execution_count": 4,
     "metadata": {},
     "output_type": "execute_result"
    }
   ],
   "source": [
    "sum(X)/len(X)"
   ]
  },
  {
   "cell_type": "code",
   "execution_count": 5,
   "id": "e5e18072",
   "metadata": {},
   "outputs": [
    {
     "data": {
      "text/plain": [
       "-0.13890440325238312"
      ]
     },
     "execution_count": 5,
     "metadata": {},
     "output_type": "execute_result"
    }
   ],
   "source": [
    "np.mean(X)"
   ]
  },
  {
   "cell_type": "code",
   "execution_count": 6,
   "id": "d813fabc",
   "metadata": {},
   "outputs": [
    {
     "data": {
      "text/plain": [
       "-0.13890440325238312"
      ]
     },
     "execution_count": 6,
     "metadata": {},
     "output_type": "execute_result"
    }
   ],
   "source": [
    "X.mean()"
   ]
  },
  {
   "cell_type": "code",
   "execution_count": 7,
   "id": "d8bb9400",
   "metadata": {},
   "outputs": [
    {
     "data": {
      "text/plain": [
       "-0.13890440325238307"
      ]
     },
     "execution_count": 7,
     "metadata": {},
     "output_type": "execute_result"
    }
   ],
   "source": [
    "pd.Series(X).mean()"
   ]
  },
  {
   "cell_type": "code",
   "execution_count": 8,
   "id": "8414df39",
   "metadata": {},
   "outputs": [],
   "source": [
    "X[1] = np.nan"
   ]
  },
  {
   "cell_type": "code",
   "execution_count": 9,
   "id": "6d40b843",
   "metadata": {},
   "outputs": [
    {
     "data": {
      "text/plain": [
       "nan"
      ]
     },
     "execution_count": 9,
     "metadata": {},
     "output_type": "execute_result"
    }
   ],
   "source": [
    "X.mean()"
   ]
  },
  {
   "cell_type": "code",
   "execution_count": 10,
   "id": "df610b41",
   "metadata": {},
   "outputs": [
    {
     "data": {
      "text/plain": [
       "-0.038058033732224224"
      ]
     },
     "execution_count": 10,
     "metadata": {},
     "output_type": "execute_result"
    }
   ],
   "source": [
    "pd.Series(X).mean()"
   ]
  },
  {
   "cell_type": "code",
   "execution_count": 11,
   "id": "43f87188",
   "metadata": {},
   "outputs": [
    {
     "data": {
      "text/plain": [
       "array([ 1.07602537,         nan, -0.7043493 ,  0.38415478, -1.23028578,\n",
       "       -1.25831732, -0.41998266,  0.5768451 , -0.00992686,  1.24331436])"
      ]
     },
     "execution_count": 11,
     "metadata": {},
     "output_type": "execute_result"
    }
   ],
   "source": [
    "X"
   ]
  },
  {
   "cell_type": "markdown",
   "id": "e1b0fc6a",
   "metadata": {},
   "source": [
    "## Median"
   ]
  },
  {
   "cell_type": "code",
   "execution_count": 13,
   "id": "f49e2fd1",
   "metadata": {},
   "outputs": [
    {
     "data": {
      "text/plain": [
       "0.31948680146666414"
      ]
     },
     "execution_count": 13,
     "metadata": {},
     "output_type": "execute_result"
    }
   ],
   "source": [
    "X.mean()"
   ]
  },
  {
   "cell_type": "code",
   "execution_count": 14,
   "id": "efbd4de9",
   "metadata": {},
   "outputs": [
    {
     "data": {
      "text/plain": [
       "0.30993042612871835"
      ]
     },
     "execution_count": 14,
     "metadata": {},
     "output_type": "execute_result"
    }
   ],
   "source": [
    "np.quantile(X,0.5)"
   ]
  },
  {
   "cell_type": "code",
   "execution_count": 15,
   "id": "1bfdbc7e",
   "metadata": {},
   "outputs": [
    {
     "data": {
      "text/plain": [
       "0.30993042612871835"
      ]
     },
     "execution_count": 15,
     "metadata": {},
     "output_type": "execute_result"
    }
   ],
   "source": [
    "statistics.median(X)"
   ]
  },
  {
   "cell_type": "code",
   "execution_count": 16,
   "id": "83f7141c",
   "metadata": {},
   "outputs": [
    {
     "data": {
      "text/plain": [
       "0.30993042612871835"
      ]
     },
     "execution_count": 16,
     "metadata": {},
     "output_type": "execute_result"
    }
   ],
   "source": [
    "np.median(X)"
   ]
  },
  {
   "cell_type": "code",
   "execution_count": 17,
   "id": "e4bd9a95",
   "metadata": {},
   "outputs": [
    {
     "data": {
      "text/plain": [
       "0.30993042612871835"
      ]
     },
     "execution_count": 17,
     "metadata": {},
     "output_type": "execute_result"
    }
   ],
   "source": [
    "np.median(X)"
   ]
  },
  {
   "cell_type": "markdown",
   "id": "8978101b",
   "metadata": {},
   "source": [
    "## Mode/Modus"
   ]
  },
  {
   "cell_type": "code",
   "execution_count": 18,
   "id": "49b037a6",
   "metadata": {},
   "outputs": [],
   "source": [
    "X_mode = [1,2,2,3,3,3,4,4,4,4]"
   ]
  },
  {
   "cell_type": "code",
   "execution_count": 19,
   "id": "72decf5b",
   "metadata": {},
   "outputs": [
    {
     "data": {
      "text/plain": [
       "4"
      ]
     },
     "execution_count": 19,
     "metadata": {},
     "output_type": "execute_result"
    }
   ],
   "source": [
    "statistics.mode(X_mode)"
   ]
  },
  {
   "cell_type": "code",
   "execution_count": 20,
   "id": "748a6d37",
   "metadata": {},
   "outputs": [
    {
     "name": "stderr",
     "output_type": "stream",
     "text": [
      "C:\\Users\\Immantaka Juniarsa\\AppData\\Local\\Temp\\ipykernel_8196\\1799685691.py:1: FutureWarning: Unlike other reduction functions (e.g. `skew`, `kurtosis`), the default behavior of `mode` typically preserves the axis it acts along. In SciPy 1.11.0, this behavior will change: the default value of `keepdims` will become False, the `axis` over which the statistic is taken will be eliminated, and the value None will no longer be accepted. Set `keepdims` to True or False to avoid this warning.\n",
      "  mode_scipy = scipy.stats.mode(X_mode)\n"
     ]
    }
   ],
   "source": [
    "mode_scipy = scipy.stats.mode(X_mode)"
   ]
  },
  {
   "cell_type": "code",
   "execution_count": 21,
   "id": "1e88f0c3",
   "metadata": {},
   "outputs": [
    {
     "data": {
      "text/plain": [
       "array([4])"
      ]
     },
     "execution_count": 21,
     "metadata": {},
     "output_type": "execute_result"
    }
   ],
   "source": [
    "mode_scipy.mode"
   ]
  },
  {
   "cell_type": "code",
   "execution_count": 22,
   "id": "21af0016",
   "metadata": {},
   "outputs": [
    {
     "data": {
      "text/plain": [
       "0    3\n",
       "1    4\n",
       "dtype: int64"
      ]
     },
     "execution_count": 22,
     "metadata": {},
     "output_type": "execute_result"
    }
   ],
   "source": [
    "X_mode = [1,2,2,3,3,3,3,4,4,4,4]\n",
    "pd.Series(X_mode).mode()"
   ]
  },
  {
   "cell_type": "markdown",
   "id": "e65764ca",
   "metadata": {},
   "source": [
    "## Geometric Mean"
   ]
  },
  {
   "cell_type": "code",
   "execution_count": 23,
   "id": "47d79972",
   "metadata": {},
   "outputs": [],
   "source": [
    "X = np.random.randint(1,10,10)"
   ]
  },
  {
   "cell_type": "code",
   "execution_count": 24,
   "id": "7c09619c",
   "metadata": {},
   "outputs": [],
   "source": [
    "X[-1] = 100"
   ]
  },
  {
   "cell_type": "code",
   "execution_count": 25,
   "id": "f87ab5c6",
   "metadata": {},
   "outputs": [
    {
     "name": "stdout",
     "output_type": "stream",
     "text": [
      "5.510234095918074\n"
     ]
    }
   ],
   "source": [
    "gmean = 1\n",
    "\n",
    "for Xi in X:\n",
    "    gmean *= Xi\n",
    "\n",
    "gmean = gmean**(1/len(X))\n",
    "print(gmean)"
   ]
  },
  {
   "cell_type": "code",
   "execution_count": 26,
   "id": "d534422d",
   "metadata": {},
   "outputs": [
    {
     "data": {
      "text/plain": [
       "14.5"
      ]
     },
     "execution_count": 26,
     "metadata": {},
     "output_type": "execute_result"
    }
   ],
   "source": [
    "X.mean()"
   ]
  },
  {
   "cell_type": "code",
   "execution_count": 27,
   "id": "69a75d3d",
   "metadata": {},
   "outputs": [
    {
     "data": {
      "text/plain": [
       "5.510234095918073"
      ]
     },
     "execution_count": 27,
     "metadata": {},
     "output_type": "execute_result"
    }
   ],
   "source": [
    "scipy.stats.gmean(X)"
   ]
  },
  {
   "cell_type": "markdown",
   "id": "9a881f54",
   "metadata": {},
   "source": [
    "## Harmonic Mean"
   ]
  },
  {
   "cell_type": "code",
   "execution_count": 28,
   "id": "29012d2d",
   "metadata": {},
   "outputs": [
    {
     "name": "stdout",
     "output_type": "stream",
     "text": [
      "3.090052972336669\n"
     ]
    }
   ],
   "source": [
    "hmean = len(X) / sum(1/Xi for Xi in X)\n",
    "print(hmean)"
   ]
  },
  {
   "cell_type": "code",
   "execution_count": 29,
   "id": "e3560704",
   "metadata": {},
   "outputs": [
    {
     "name": "stdout",
     "output_type": "stream",
     "text": [
      "3.090052972336669\n"
     ]
    }
   ],
   "source": [
    "hmean = scipy.stats.hmean(X)\n",
    "print(hmean)"
   ]
  },
  {
   "cell_type": "code",
   "execution_count": 30,
   "id": "b1ef837e",
   "metadata": {},
   "outputs": [
    {
     "data": {
      "text/plain": [
       "array([  1,   1,   4,   4,   6,   6,   7,   8,   8, 100])"
      ]
     },
     "execution_count": 30,
     "metadata": {},
     "output_type": "execute_result"
    }
   ],
   "source": [
    "X.sort()\n",
    "X"
   ]
  },
  {
   "cell_type": "code",
   "execution_count": 31,
   "id": "98998167",
   "metadata": {},
   "outputs": [
    {
     "name": "stdout",
     "output_type": "stream",
     "text": [
      "Mean:  14.5\n",
      "Gmean:  5.510234095918074\n",
      "Hmean:  3.090052972336669\n"
     ]
    }
   ],
   "source": [
    "print(\"Mean: \", X.mean())\n",
    "print(\"Gmean: \", gmean)\n",
    "print(\"Hmean: \", hmean)"
   ]
  },
  {
   "cell_type": "code",
   "execution_count": 33,
   "id": "9135e053",
   "metadata": {},
   "outputs": [],
   "source": [
    "range = X.max() - X.min()"
   ]
  },
  {
   "cell_type": "code",
   "execution_count": 34,
   "id": "07c0e351",
   "metadata": {},
   "outputs": [
    {
     "data": {
      "text/plain": [
       "array([  1,   1,   4,   4,   6,   6,   7,   8,   8, 100])"
      ]
     },
     "execution_count": 34,
     "metadata": {},
     "output_type": "execute_result"
    }
   ],
   "source": [
    "X"
   ]
  },
  {
   "cell_type": "code",
   "execution_count": 35,
   "id": "00479723",
   "metadata": {},
   "outputs": [
    {
     "data": {
      "text/plain": [
       "99"
      ]
     },
     "execution_count": 35,
     "metadata": {},
     "output_type": "execute_result"
    }
   ],
   "source": [
    "np.ptp(X)"
   ]
  },
  {
   "cell_type": "code",
   "execution_count": 36,
   "id": "4c23f610",
   "metadata": {},
   "outputs": [
    {
     "name": "stdout",
     "output_type": "stream",
     "text": [
      "IQR:  3.75\n"
     ]
    }
   ],
   "source": [
    "Q1 = np.quantile(X,0.25)\n",
    "Q3 = np.quantile(X,.75)\n",
    "\n",
    "print(\"IQR: \", Q3-Q1)"
   ]
  },
  {
   "cell_type": "code",
   "execution_count": 37,
   "id": "8ae81931",
   "metadata": {},
   "outputs": [
    {
     "data": {
      "text/plain": [
       "78.30000000000004"
      ]
     },
     "execution_count": 37,
     "metadata": {},
     "output_type": "execute_result"
    }
   ],
   "source": [
    "np.quantile(X,0.975) - np.quantile(X,0.025)"
   ]
  },
  {
   "cell_type": "markdown",
   "id": "4d1d55fa",
   "metadata": {},
   "source": [
    "## Variance"
   ]
  },
  {
   "cell_type": "code",
   "execution_count": 38,
   "id": "6baa52a1",
   "metadata": {},
   "outputs": [],
   "source": [
    "X = np.random.random(100)"
   ]
  },
  {
   "cell_type": "code",
   "execution_count": 39,
   "id": "09861608",
   "metadata": {},
   "outputs": [
    {
     "data": {
      "text/plain": [
       "0.07670666858820274"
      ]
     },
     "execution_count": 39,
     "metadata": {},
     "output_type": "execute_result"
    }
   ],
   "source": [
    "X.var(ddof=1)"
   ]
  },
  {
   "cell_type": "code",
   "execution_count": 40,
   "id": "9e640a18",
   "metadata": {},
   "outputs": [
    {
     "data": {
      "text/plain": [
       "0.07670666858820273"
      ]
     },
     "execution_count": 40,
     "metadata": {},
     "output_type": "execute_result"
    }
   ],
   "source": [
    "pd.Series(X).var()"
   ]
  },
  {
   "cell_type": "code",
   "execution_count": 41,
   "id": "5102a260",
   "metadata": {},
   "outputs": [
    {
     "data": {
      "text/plain": [
       "0.2769596876590576"
      ]
     },
     "execution_count": 41,
     "metadata": {},
     "output_type": "execute_result"
    }
   ],
   "source": [
    "X.std(ddof=1)"
   ]
  },
  {
   "cell_type": "code",
   "execution_count": 42,
   "id": "5b2d4e8e",
   "metadata": {},
   "outputs": [
    {
     "data": {
      "text/plain": [
       "0.2769596876590576"
      ]
     },
     "execution_count": 42,
     "metadata": {},
     "output_type": "execute_result"
    }
   ],
   "source": [
    "X.var(ddof=1)**0.5"
   ]
  },
  {
   "cell_type": "code",
   "execution_count": 43,
   "id": "f8f7962d",
   "metadata": {},
   "outputs": [
    {
     "data": {
      "text/plain": [
       "0.2769596876590576"
      ]
     },
     "execution_count": 43,
     "metadata": {},
     "output_type": "execute_result"
    }
   ],
   "source": [
    "pd.Series(X).std()"
   ]
  },
  {
   "cell_type": "code",
   "execution_count": 44,
   "id": "d856199e",
   "metadata": {},
   "outputs": [
    {
     "data": {
      "text/plain": [
       "0.21691212158127815"
      ]
     },
     "execution_count": 44,
     "metadata": {},
     "output_type": "execute_result"
    }
   ],
   "source": [
    "scipy.stats.median_abs_deviation(X)"
   ]
  },
  {
   "cell_type": "markdown",
   "id": "f313aecf",
   "metadata": {},
   "source": [
    "## Skew"
   ]
  },
  {
   "cell_type": "code",
   "execution_count": 45,
   "id": "ef6cd166",
   "metadata": {},
   "outputs": [],
   "source": [
    "X1 = scipy.stats.skewnorm.rvs(a=10,size=10000,loc=0)"
   ]
  },
  {
   "cell_type": "code",
   "execution_count": 46,
   "id": "343fa35d",
   "metadata": {},
   "outputs": [
    {
     "name": "stderr",
     "output_type": "stream",
     "text": [
      "C:\\Users\\Immantaka Juniarsa\\AppData\\Local\\Temp\\ipykernel_8196\\3947939701.py:1: RuntimeWarning: invalid value encountered in sqrt\n",
      "  sns.displot(X1**0.5)\n"
     ]
    },
    {
     "data": {
      "text/plain": [
       "<seaborn.axisgrid.FacetGrid at 0x13d79462130>"
      ]
     },
     "execution_count": 46,
     "metadata": {},
     "output_type": "execute_result"
    },
    {
     "data": {
      "image/png": "[encoded data removed]",
      "text/plain": [
       "<Figure size 500x500 with 1 Axes>"
      ]
     },
     "metadata": {},
     "output_type": "display_data"
    }
   ],
   "source": [
    "sns.displot(X1**0.5)"
   ]
  },
  {
   "cell_type": "code",
   "execution_count": 47,
   "id": "6e825f2f",
   "metadata": {},
   "outputs": [
    {
     "data": {
      "text/plain": [
       "<seaborn.axisgrid.FacetGrid at 0x13d7964f460>"
      ]
     },
     "execution_count": 47,
     "metadata": {},
     "output_type": "execute_result"
    },
    {
     "data": {
      "image/png": "[encoded data removed]",
      "text/plain": [
       "<Figure size 500x500 with 1 Axes>"
      ]
     },
     "metadata": {},
     "output_type": "display_data"
    }
   ],
   "source": [
    "X2 = scipy.stats.skewnorm.rvs(a=-10,size=10000,loc=0)\n",
    "sns.displot(X2)"
   ]
  },
  {
   "cell_type": "code",
   "execution_count": 48,
   "id": "0c8bed0e",
   "metadata": {},
   "outputs": [
    {
     "data": {
      "text/plain": [
       "-0.9568425840833853"
      ]
     },
     "execution_count": 48,
     "metadata": {},
     "output_type": "execute_result"
    }
   ],
   "source": [
    "scipy.stats.skew(X2)"
   ]
  },
  {
   "cell_type": "code",
   "execution_count": 49,
   "id": "c5c66ac7",
   "metadata": {},
   "outputs": [
    {
     "data": {
      "text/plain": [
       "0.9361477397155723"
      ]
     },
     "execution_count": 49,
     "metadata": {},
     "output_type": "execute_result"
    }
   ],
   "source": [
    "scipy.stats.skew(X1)"
   ]
  },
  {
   "cell_type": "code",
   "execution_count": 50,
   "id": "6a48e592",
   "metadata": {},
   "outputs": [
    {
     "data": {
      "text/plain": [
       "0.7978519478945978"
      ]
     },
     "execution_count": 50,
     "metadata": {},
     "output_type": "execute_result"
    }
   ],
   "source": [
    "X1.mean()"
   ]
  },
  {
   "cell_type": "code",
   "execution_count": 51,
   "id": "6090a798",
   "metadata": {},
   "outputs": [
    {
     "data": {
      "text/plain": [
       "-0.7858007188247671"
      ]
     },
     "execution_count": 51,
     "metadata": {},
     "output_type": "execute_result"
    }
   ],
   "source": [
    "X2.mean()"
   ]
  },
  {
   "cell_type": "code",
   "execution_count": 52,
   "id": "ea1c808d",
   "metadata": {},
   "outputs": [
    {
     "data": {
      "text/plain": [
       "<seaborn.axisgrid.FacetGrid at 0x13d79f3a9d0>"
      ]
     },
     "execution_count": 52,
     "metadata": {},
     "output_type": "execute_result"
    },
    {
     "data": {
      "image/png": "[encoded data removed]",
      "text/plain": [
       "<Figure size 500x500 with 1 Axes>"
      ]
     },
     "metadata": {},
     "output_type": "display_data"
    }
   ],
   "source": [
    "X = scipy.stats.skewnorm.rvs(a=0,size=10000,loc=0)\n",
    "sns.displot(X)"
   ]
  },
  {
   "cell_type": "code",
   "execution_count": 53,
   "id": "79057de6",
   "metadata": {},
   "outputs": [
    {
     "data": {
      "text/plain": [
       "-0.05130511365168733"
      ]
     },
     "execution_count": 53,
     "metadata": {},
     "output_type": "execute_result"
    }
   ],
   "source": [
    "scipy.stats.kurtosis(X)"
   ]
  },
  {
   "cell_type": "code",
   "execution_count": 54,
   "id": "fde07cc2",
   "metadata": {},
   "outputs": [],
   "source": [
    "result = scipy.stats.describe(X, ddof=1, bias=False)"
   ]
  },
  {
   "cell_type": "code",
   "execution_count": 55,
   "id": "d585e910",
   "metadata": {},
   "outputs": [
    {
     "data": {
      "text/plain": [
       "DescribeResult(nobs=10000, minmax=(-3.4583010369664384, 3.5690941199524238), mean=0.01752945191902421, variance=1.0044931922463367, skewness=0.004910508317138792, kurtosis=-0.05073053536248562)"
      ]
     },
     "execution_count": 55,
     "metadata": {},
     "output_type": "execute_result"
    }
   ],
   "source": [
    "result"
   ]
  },
  {
   "cell_type": "code",
   "execution_count": 56,
   "id": "7f86e87a",
   "metadata": {},
   "outputs": [
    {
     "data": {
      "text/plain": [
       "count    10000.000000\n",
       "mean         0.017529\n",
       "std          1.002244\n",
       "min         -3.458301\n",
       "25%         -0.651020\n",
       "50%          0.018173\n",
       "75%          0.696097\n",
       "max          3.569094\n",
       "dtype: float64"
      ]
     },
     "execution_count": 56,
     "metadata": {},
     "output_type": "execute_result"
    }
   ],
   "source": [
    "pd.Series(X).describe()"
   ]
  },
  {
   "cell_type": "markdown",
   "id": "81c051c2",
   "metadata": {},
   "source": [
    "## Correlation"
   ]
  },
  {
   "cell_type": "code",
   "execution_count": 57,
   "id": "1622d9f2",
   "metadata": {},
   "outputs": [],
   "source": [
    "X = np.random.random(size=100)\n",
    "\n",
    "Y1 = np.random.random(size=100)\n",
    "\n",
    "Y2 =   2*X + np.random.random(size=100)\n",
    "Y3 = - 2*X + np.random.random(size=100)"
   ]
  },
  {
   "cell_type": "code",
   "execution_count": 58,
   "id": "3cd1e0fa",
   "metadata": {},
   "outputs": [
    {
     "data": {
      "text/plain": [
       "<matplotlib.collections.PathCollection at 0x13d7a06cca0>"
      ]
     },
     "execution_count": 58,
     "metadata": {},
     "output_type": "execute_result"
    },
    {
     "data": {
      "image/png": "[encoded data removed]",
      "text/plain": [
       "<Figure size 640x480 with 1 Axes>"
      ]
     },
     "metadata": {},
     "output_type": "display_data"
    }
   ],
   "source": [
    "plt.scatter(x=X, y=Y1)"
   ]
  },
  {
   "cell_type": "code",
   "execution_count": 59,
   "id": "5bf14e71",
   "metadata": {},
   "outputs": [
    {
     "data": {
      "text/plain": [
       "<matplotlib.collections.PathCollection at 0x13d7b0abb20>"
      ]
     },
     "execution_count": 59,
     "metadata": {},
     "output_type": "execute_result"
    },
    {
     "data": {
      "image/png": "[encoded data removed]",
      "text/plain": [
       "<Figure size 640x480 with 1 Axes>"
      ]
     },
     "metadata": {},
     "output_type": "display_data"
    }
   ],
   "source": [
    "plt.scatter(x=X, y=Y2)"
   ]
  },
  {
   "cell_type": "code",
   "execution_count": 60,
   "id": "0bfa9af5",
   "metadata": {},
   "outputs": [
    {
     "data": {
      "text/plain": [
       "<matplotlib.collections.PathCollection at 0x13d7b24ed30>"
      ]
     },
     "execution_count": 60,
     "metadata": {},
     "output_type": "execute_result"
    },
    {
     "data": {
      "image/png": "[encoded data removed]",
      "text/plain": [
       "<Figure size 640x480 with 1 Axes>"
      ]
     },
     "metadata": {},
     "output_type": "display_data"
    }
   ],
   "source": [
    "plt.scatter(x=X, y=Y3)"
   ]
  },
  {
   "cell_type": "code",
   "execution_count": 61,
   "id": "80180970",
   "metadata": {},
   "outputs": [
    {
     "data": {
      "text/plain": [
       "array([[0.08366622, 0.00726115],\n",
       "       [0.00726115, 0.0917562 ]])"
      ]
     },
     "execution_count": 61,
     "metadata": {},
     "output_type": "execute_result"
    }
   ],
   "source": [
    "np.cov(X,Y1)"
   ]
  },
  {
   "cell_type": "code",
   "execution_count": 62,
   "id": "2fd40ea4",
   "metadata": {},
   "outputs": [
    {
     "data": {
      "text/plain": [
       "array([[0.08366622, 0.16887794],\n",
       "       [0.16887794, 0.42079666]])"
      ]
     },
     "execution_count": 62,
     "metadata": {},
     "output_type": "execute_result"
    }
   ],
   "source": [
    "np.cov(X,Y2)"
   ]
  },
  {
   "cell_type": "code",
   "execution_count": 63,
   "id": "c8ab81db",
   "metadata": {},
   "outputs": [
    {
     "data": {
      "text/plain": [
       "-0.1641499652131374"
      ]
     },
     "execution_count": 63,
     "metadata": {},
     "output_type": "execute_result"
    }
   ],
   "source": [
    "np.cov(X,Y3)[0,1]"
   ]
  },
  {
   "cell_type": "code",
   "execution_count": 64,
   "id": "9b0a39bb",
   "metadata": {},
   "outputs": [
    {
     "data": {
      "text/plain": [
       "-0.1641499652131374"
      ]
     },
     "execution_count": 64,
     "metadata": {},
     "output_type": "execute_result"
    }
   ],
   "source": [
    "pd.Series(X).cov(pd.Series(Y3))"
   ]
  },
  {
   "cell_type": "code",
   "execution_count": 65,
   "id": "fa587659",
   "metadata": {},
   "outputs": [],
   "source": [
    "X = 10*np.random.random(size=100)\n",
    "\n",
    "Y1 = np.random.random(size=100)\n",
    "\n",
    "Y2 =   2*X + np.random.random(size=100)\n",
    "Y3 = - 2*X + np.random.random(size=100)"
   ]
  },
  {
   "cell_type": "code",
   "execution_count": 66,
   "id": "7f6b9b4c",
   "metadata": {},
   "outputs": [
    {
     "data": {
      "text/plain": [
       "array([[  8.091392  , -16.27240258],\n",
       "       [-16.27240258,  32.8026049 ]])"
      ]
     },
     "execution_count": 66,
     "metadata": {},
     "output_type": "execute_result"
    }
   ],
   "source": [
    "np.cov(X,Y3)"
   ]
  },
  {
   "cell_type": "code",
   "execution_count": 67,
   "id": "32988cf8",
   "metadata": {},
   "outputs": [],
   "source": [
    "X = np.random.random(size=100)\n",
    "\n",
    "Y1 = np.random.random(size=100)\n",
    "\n",
    "Y2 =   2*X + np.random.random(size=100)\n",
    "Y3 = - 2*X + np.random.random(size=100)"
   ]
  },
  {
   "cell_type": "code",
   "execution_count": 68,
   "id": "ddc2248f",
   "metadata": {},
   "outputs": [],
   "source": [
    "cov_xy = np.cov(X,Y2)[0,1]"
   ]
  },
  {
   "cell_type": "code",
   "execution_count": 70,
   "id": "2ec01ffd",
   "metadata": {},
   "outputs": [
    {
     "data": {
      "text/plain": [
       "0.923683763569063"
      ]
     },
     "execution_count": 70,
     "metadata": {},
     "output_type": "execute_result"
    }
   ],
   "source": [
    "cov_xy / (X.std()* Y2.std())"
   ]
  },
  {
   "cell_type": "code",
   "execution_count": 71,
   "id": "bc5e7f80",
   "metadata": {},
   "outputs": [],
   "source": [
    "X = 10*np.random.random(size=100)\n",
    "\n",
    "Y1 = np.random.random(size=100)\n",
    "\n",
    "Y2 =   2*X + np.random.random(size=100)\n",
    "Y3 = - 2*X + np.random.random(size=100)"
   ]
  },
  {
   "cell_type": "code",
   "execution_count": 72,
   "id": "cf6d431d",
   "metadata": {},
   "outputs": [],
   "source": [
    "cov_xy = np.cov(X,Y2)[0,1]"
   ]
  },
  {
   "cell_type": "code",
   "execution_count": 73,
   "id": "ea259372",
   "metadata": {},
   "outputs": [
    {
     "data": {
      "text/plain": [
       "0.9986551227053766"
      ]
     },
     "execution_count": 73,
     "metadata": {},
     "output_type": "execute_result"
    }
   ],
   "source": [
    "cov_xy /(X.std(ddof=1)*Y2.std(ddof=1))"
   ]
  },
  {
   "cell_type": "code",
   "execution_count": 74,
   "id": "d02f12a7",
   "metadata": {},
   "outputs": [
    {
     "data": {
      "text/plain": [
       "array([[ 1.        , -0.99879823],\n",
       "       [-0.99879823,  1.        ]])"
      ]
     },
     "execution_count": 74,
     "metadata": {},
     "output_type": "execute_result"
    }
   ],
   "source": [
    "np.corrcoef(X,Y3)"
   ]
  },
  {
   "cell_type": "code",
   "execution_count": 75,
   "id": "19125b3a",
   "metadata": {},
   "outputs": [
    {
     "data": {
      "text/plain": [
       "0.9986551227053766"
      ]
     },
     "execution_count": 75,
     "metadata": {},
     "output_type": "execute_result"
    }
   ],
   "source": [
    "np.corrcoef(X,Y2)[0,1]"
   ]
  },
  {
   "cell_type": "code",
   "execution_count": 76,
   "id": "76fed3f7",
   "metadata": {},
   "outputs": [
    {
     "data": {
      "text/plain": [
       "0.9986551227053766"
      ]
     },
     "execution_count": 76,
     "metadata": {},
     "output_type": "execute_result"
    }
   ],
   "source": [
    "scipy.stats.linregress(X,Y2).rvalue"
   ]
  },
  {
   "cell_type": "markdown",
   "id": "9b63ddb0",
   "metadata": {},
   "source": [
    "## 2D"
   ]
  },
  {
   "cell_type": "code",
   "execution_count": 77,
   "id": "2f5c494a",
   "metadata": {},
   "outputs": [],
   "source": [
    "df = pd.DataFrame(\n",
    "    {\"A\": X,\n",
    "    \"B\": Y1,\n",
    "    \"C\" : Y2\n",
    "    }\n",
    ")"
   ]
  },
  {
   "cell_type": "code",
   "execution_count": 78,
   "id": "ab8d5b7c",
   "metadata": {},
   "outputs": [
    {
     "data": {
      "text/html": [
       "<div>\n",
       "<style scoped>\n",
       "    .dataframe tbody tr th:only-of-type {\n",
       "        vertical-align: middle;\n",
       "    }\n",
       "\n",
       "    .dataframe tbody tr th {\n",
       "        vertical-align: top;\n",
       "    }\n",
       "\n",
       "    .dataframe thead th {\n",
       "        text-align: right;\n",
       "    }\n",
       "</style>\n",
       "<table border=\"1\" class=\"dataframe\">\n",
       "  <thead>\n",
       "    <tr style=\"text-align: right;\">\n",
       "      <th></th>\n",
       "      <th>A</th>\n",
       "      <th>B</th>\n",
       "      <th>C</th>\n",
       "    </tr>\n",
       "  </thead>\n",
       "  <tbody>\n",
       "    <tr>\n",
       "      <th>0</th>\n",
       "      <td>2.600636</td>\n",
       "      <td>0.115657</td>\n",
       "      <td>5.780012</td>\n",
       "    </tr>\n",
       "    <tr>\n",
       "      <th>1</th>\n",
       "      <td>1.371697</td>\n",
       "      <td>0.495528</td>\n",
       "      <td>3.451241</td>\n",
       "    </tr>\n",
       "    <tr>\n",
       "      <th>2</th>\n",
       "      <td>8.450873</td>\n",
       "      <td>0.234609</td>\n",
       "      <td>17.433583</td>\n",
       "    </tr>\n",
       "    <tr>\n",
       "      <th>3</th>\n",
       "      <td>2.559491</td>\n",
       "      <td>0.698808</td>\n",
       "      <td>5.781245</td>\n",
       "    </tr>\n",
       "    <tr>\n",
       "      <th>4</th>\n",
       "      <td>3.052703</td>\n",
       "      <td>0.237309</td>\n",
       "      <td>6.767877</td>\n",
       "    </tr>\n",
       "  </tbody>\n",
       "</table>\n",
       "</div>"
      ],
      "text/plain": [
       "          A         B          C\n",
       "0  2.600636  0.115657   5.780012\n",
       "1  1.371697  0.495528   3.451241\n",
       "2  8.450873  0.234609  17.433583\n",
       "3  2.559491  0.698808   5.781245\n",
       "4  3.052703  0.237309   6.767877"
      ]
     },
     "execution_count": 78,
     "metadata": {},
     "output_type": "execute_result"
    }
   ],
   "source": [
    "df.head()"
   ]
  },
  {
   "cell_type": "code",
   "execution_count": 79,
   "id": "d6ef214f",
   "metadata": {},
   "outputs": [
    {
     "data": {
      "text/html": [
       "<div>\n",
       "<style scoped>\n",
       "    .dataframe tbody tr th:only-of-type {\n",
       "        vertical-align: middle;\n",
       "    }\n",
       "\n",
       "    .dataframe tbody tr th {\n",
       "        vertical-align: top;\n",
       "    }\n",
       "\n",
       "    .dataframe thead th {\n",
       "        text-align: right;\n",
       "    }\n",
       "</style>\n",
       "<table border=\"1\" class=\"dataframe\">\n",
       "  <thead>\n",
       "    <tr style=\"text-align: right;\">\n",
       "      <th></th>\n",
       "      <th>A</th>\n",
       "      <th>B</th>\n",
       "      <th>C</th>\n",
       "    </tr>\n",
       "  </thead>\n",
       "  <tbody>\n",
       "    <tr>\n",
       "      <th>count</th>\n",
       "      <td>100.000000</td>\n",
       "      <td>100.000000</td>\n",
       "      <td>100.000000</td>\n",
       "    </tr>\n",
       "    <tr>\n",
       "      <th>mean</th>\n",
       "      <td>5.127606</td>\n",
       "      <td>0.462762</td>\n",
       "      <td>10.761744</td>\n",
       "    </tr>\n",
       "    <tr>\n",
       "      <th>std</th>\n",
       "      <td>2.866368</td>\n",
       "      <td>0.296447</td>\n",
       "      <td>5.727653</td>\n",
       "    </tr>\n",
       "    <tr>\n",
       "      <th>min</th>\n",
       "      <td>0.157142</td>\n",
       "      <td>0.003131</td>\n",
       "      <td>0.642421</td>\n",
       "    </tr>\n",
       "    <tr>\n",
       "      <th>25%</th>\n",
       "      <td>2.550922</td>\n",
       "      <td>0.215854</td>\n",
       "      <td>5.746241</td>\n",
       "    </tr>\n",
       "    <tr>\n",
       "      <th>50%</th>\n",
       "      <td>5.638878</td>\n",
       "      <td>0.439469</td>\n",
       "      <td>11.746605</td>\n",
       "    </tr>\n",
       "    <tr>\n",
       "      <th>75%</th>\n",
       "      <td>7.341840</td>\n",
       "      <td>0.709794</td>\n",
       "      <td>15.222862</td>\n",
       "    </tr>\n",
       "    <tr>\n",
       "      <th>max</th>\n",
       "      <td>9.959302</td>\n",
       "      <td>0.992749</td>\n",
       "      <td>20.714385</td>\n",
       "    </tr>\n",
       "  </tbody>\n",
       "</table>\n",
       "</div>"
      ],
      "text/plain": [
       "                A           B           C\n",
       "count  100.000000  100.000000  100.000000\n",
       "mean     5.127606    0.462762   10.761744\n",
       "std      2.866368    0.296447    5.727653\n",
       "min      0.157142    0.003131    0.642421\n",
       "25%      2.550922    0.215854    5.746241\n",
       "50%      5.638878    0.439469   11.746605\n",
       "75%      7.341840    0.709794   15.222862\n",
       "max      9.959302    0.992749   20.714385"
      ]
     },
     "execution_count": 79,
     "metadata": {},
     "output_type": "execute_result"
    }
   ],
   "source": [
    "df.describe()"
   ]
  },
  {
   "cell_type": "code",
   "execution_count": 80,
   "id": "c4ea2aa8",
   "metadata": {},
   "outputs": [
    {
     "data": {
      "text/plain": [
       "A     5.127606\n",
       "B     0.462762\n",
       "C    10.761744\n",
       "dtype: float64"
      ]
     },
     "execution_count": 80,
     "metadata": {},
     "output_type": "execute_result"
    }
   ],
   "source": [
    "np.mean(df, axis=0)"
   ]
  },
  {
   "cell_type": "code",
   "execution_count": 81,
   "id": "ec2bd586",
   "metadata": {},
   "outputs": [
    {
     "data": {
      "text/plain": [
       "A     5.638878\n",
       "B     0.439469\n",
       "C    11.746605\n",
       "dtype: float64"
      ]
     },
     "execution_count": 81,
     "metadata": {},
     "output_type": "execute_result"
    }
   ],
   "source": [
    "df.median()"
   ]
  },
  {
   "cell_type": "code",
   "execution_count": 82,
   "id": "3bdc7f4c",
   "metadata": {},
   "outputs": [
    {
     "data": {
      "text/plain": [
       "array([3.79420176, 0.31538312, 8.45681392])"
      ]
     },
     "execution_count": 82,
     "metadata": {},
     "output_type": "execute_result"
    }
   ],
   "source": [
    "scipy.stats.gmean(df, axis=0)"
   ]
  },
  {
   "cell_type": "code",
   "execution_count": 83,
   "id": "3f1a0cdc",
   "metadata": {},
   "outputs": [
    {
     "data": {
      "text/plain": [
       "array([1.87942114, 0.08669245, 5.39658095])"
      ]
     },
     "execution_count": 83,
     "metadata": {},
     "output_type": "execute_result"
    }
   ],
   "source": [
    "scipy.stats.hmean(df, axis=0)"
   ]
  },
  {
   "cell_type": "code",
   "execution_count": 84,
   "id": "5867e9d4",
   "metadata": {},
   "outputs": [
    {
     "data": {
      "text/plain": [
       "DescribeResult(nobs=100, minmax=(array([0.15714164, 0.00313075, 0.64242062]), array([ 9.9593018 ,  0.99274932, 20.71438462])), mean=array([ 5.12760609,  0.46276188, 10.76174446]), variance=array([ 8.21606309,  0.08788082, 32.80600328]), skewness=array([-0.21836286,  0.18356166, -0.21553594]), kurtosis=array([-1.17625824, -1.17936478, -1.14479525]))"
      ]
     },
     "execution_count": 84,
     "metadata": {},
     "output_type": "execute_result"
    }
   ],
   "source": [
    "scipy.stats.describe(df)"
   ]
  },
  {
   "cell_type": "code",
   "execution_count": 85,
   "id": "92ad6ea1",
   "metadata": {},
   "outputs": [
    {
     "data": {
      "text/html": [
       "<div>\n",
       "<style scoped>\n",
       "    .dataframe tbody tr th:only-of-type {\n",
       "        vertical-align: middle;\n",
       "    }\n",
       "\n",
       "    .dataframe tbody tr th {\n",
       "        vertical-align: top;\n",
       "    }\n",
       "\n",
       "    .dataframe thead th {\n",
       "        text-align: right;\n",
       "    }\n",
       "</style>\n",
       "<table border=\"1\" class=\"dataframe\">\n",
       "  <thead>\n",
       "    <tr style=\"text-align: right;\">\n",
       "      <th></th>\n",
       "      <th>A</th>\n",
       "      <th>B</th>\n",
       "      <th>C</th>\n",
       "    </tr>\n",
       "  </thead>\n",
       "  <tbody>\n",
       "    <tr>\n",
       "      <th>A</th>\n",
       "      <td>1.000000</td>\n",
       "      <td>-0.062431</td>\n",
       "      <td>0.998655</td>\n",
       "    </tr>\n",
       "    <tr>\n",
       "      <th>B</th>\n",
       "      <td>-0.062431</td>\n",
       "      <td>1.000000</td>\n",
       "      <td>-0.059424</td>\n",
       "    </tr>\n",
       "    <tr>\n",
       "      <th>C</th>\n",
       "      <td>0.998655</td>\n",
       "      <td>-0.059424</td>\n",
       "      <td>1.000000</td>\n",
       "    </tr>\n",
       "  </tbody>\n",
       "</table>\n",
       "</div>"
      ],
      "text/plain": [
       "          A         B         C\n",
       "A  1.000000 -0.062431  0.998655\n",
       "B -0.062431  1.000000 -0.059424\n",
       "C  0.998655 -0.059424  1.000000"
      ]
     },
     "execution_count": 85,
     "metadata": {},
     "output_type": "execute_result"
    }
   ],
   "source": [
    "df.corr()"
   ]
  },
  {
   "cell_type": "code",
   "execution_count": 86,
   "id": "14872754",
   "metadata": {},
   "outputs": [
    {
     "data": {
      "text/plain": [
       "<AxesSubplot:>"
      ]
     },
     "execution_count": 86,
     "metadata": {},
     "output_type": "execute_result"
    },
    {
     "data": {
      "image/png": "[encoded data removed]",
      "text/plain": [
       "<Figure size 640x480 with 2 Axes>"
      ]
     },
     "metadata": {},
     "output_type": "display_data"
    }
   ],
   "source": [
    "sns.heatmap(df.corr())"
   ]
  },
  {
   "cell_type": "code",
   "execution_count": null,
   "id": "da69d458",
   "metadata": {},
   "outputs": [],
   "source": []
  }
 ],
 "metadata": {
  "kernelspec": {
   "display_name": "Python 3 (ipykernel)",
   "language": "python",
   "name": "python3"
  },
  "language_info": {
   "codemirror_mode": {
    "name": "ipython",
    "version": 3
   },
   "file_extension": ".py",
   "mimetype": "text/x-python",
   "name": "python",
   "nbconvert_exporter": "python",
   "pygments_lexer": "ipython3",
   "version": "3.9.13"
  }
 },
 "nbformat": 4,
 "nbformat_minor": 5
}
