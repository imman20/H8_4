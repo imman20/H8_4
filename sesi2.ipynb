{
 "cells": [
  {
   "cell_type": "markdown",
   "id": "52c16ff4",
   "metadata": {},
   "source": [
    "## Conditions, Control Flow, and Looping"
   ]
  },
  {
   "cell_type": "code",
   "execution_count": 1,
   "id": "66605a47",
   "metadata": {},
   "outputs": [
    {
     "name": "stdout",
     "output_type": "stream",
     "text": [
      "False\n",
      "True\n",
      "True\n",
      "False\n",
      "False\n",
      "True\n"
     ]
    }
   ],
   "source": [
    "a = 10\n",
    "b = 20\n",
    "\n",
    "print(a == b)\n",
    "print(a != b)\n",
    "print(a <= b)\n",
    "print(a >= b)\n",
    "print(a > b)\n",
    "print(a < b)"
   ]
  },
  {
   "cell_type": "markdown",
   "id": "0655b499",
   "metadata": {},
   "source": [
    "#  Statement"
   ]
  },
  {
   "cell_type": "code",
   "execution_count": 2,
   "id": "2d078259",
   "metadata": {},
   "outputs": [
    {
     "name": "stdout",
     "output_type": "stream",
     "text": [
      "a tidak sama dengan b\n"
     ]
    }
   ],
   "source": [
    "if a != b:\n",
    "    print(\"a tidak sama dengan b\")"
   ]
  },
  {
   "cell_type": "code",
   "execution_count": 3,
   "id": "45a29bc9",
   "metadata": {},
   "outputs": [],
   "source": [
    "if a == b:\n",
    "    print(\"a tidak sama dengan b\")"
   ]
  },
  {
   "cell_type": "code",
   "execution_count": 4,
   "id": "a166fb0c",
   "metadata": {},
   "outputs": [],
   "source": [
    "if a == b:\n",
    "    print(a)\n",
    "    print(a/10)\n",
    "    print(b)\n",
    "    print(\"a tidak sama dengan b\")"
   ]
  },
  {
   "cell_type": "code",
   "execution_count": 5,
   "id": "14f0febb",
   "metadata": {},
   "outputs": [],
   "source": [
    "if 'foo' in 'This is our goods':\n",
    "    print('foo exists')"
   ]
  },
  {
   "cell_type": "code",
   "execution_count": 6,
   "id": "bb717fb7",
   "metadata": {},
   "outputs": [],
   "source": [
    "list1 = [10,50,30,40]\n",
    "\n",
    "if 20 in list1:\n",
    "    print('ada 20 di dalam')"
   ]
  },
  {
   "cell_type": "code",
   "execution_count": 7,
   "id": "10e2bff6",
   "metadata": {},
   "outputs": [
    {
     "name": "stdout",
     "output_type": "stream",
     "text": [
      "10\n",
      "1.0\n",
      "20\n",
      "a tidak sama dengan b\n",
      "ini di luar if statement\n"
     ]
    }
   ],
   "source": [
    "if a != b:\n",
    "    print(a)\n",
    "    print(a/10)\n",
    "    print(b)\n",
    "    print(\"a tidak sama dengan b\")\n",
    "\n",
    "print('ini di luar if statement')"
   ]
  },
  {
   "cell_type": "code",
   "execution_count": 8,
   "id": "7ebf714f",
   "metadata": {},
   "outputs": [
    {
     "name": "stdout",
     "output_type": "stream",
     "text": [
      "10\n",
      "1.0\n",
      "20\n",
      "a tidak sama dengan b\n",
      "ini di luar if statement\n"
     ]
    }
   ],
   "source": [
    "if a != b:\n",
    "    print(a)\n",
    "    print(a/10)\n",
    "    print(b)\n",
    "    print(\"a tidak sama dengan b\")\n",
    "\n",
    "print('ini di luar if statement')"
   ]
  },
  {
   "cell_type": "code",
   "execution_count": 9,
   "id": "8e2e7f5c",
   "metadata": {},
   "outputs": [
    {
     "name": "stdout",
     "output_type": "stream",
     "text": [
      "a tidak sama dengan b\n",
      "statement di dalam if pertama tapi di luar if kedua\n",
      "a lebih besar dari b\n"
     ]
    }
   ],
   "source": [
    "a = 50\n",
    "b = 20\n",
    "\n",
    "if a != b:\n",
    "    print('a tidak sama dengan b')\n",
    "    if a < b:\n",
    "        print('a lebih kecil dari b')\n",
    "    \n",
    "    print('statement di dalam if pertama tapi di luar if kedua')\n",
    "\n",
    "    if a > b:\n",
    "        print('a lebih besar dari b')"
   ]
  },
  {
   "cell_type": "code",
   "execution_count": 10,
   "id": "fcbcc308",
   "metadata": {},
   "outputs": [
    {
     "name": "stdout",
     "output_type": "stream",
     "text": [
      "a sama dengan b\n"
     ]
    }
   ],
   "source": [
    "a = 20\n",
    "b = 20\n",
    "\n",
    "if a != b:\n",
    "    print('a tidak sama dengan b')\n",
    "else:\n",
    "    print('a sama dengan b')"
   ]
  },
  {
   "cell_type": "code",
   "execution_count": 11,
   "id": "e936bddf",
   "metadata": {},
   "outputs": [
    {
     "name": "stdout",
     "output_type": "stream",
     "text": [
      "a sama dengan b\n"
     ]
    }
   ],
   "source": [
    "a = 50\n",
    "b = 50\n",
    "\n",
    "if a == b:\n",
    "    print('a sama dengan b')\n",
    "elif a % b == 0:\n",
    "    print('a habis dibagi b')\n",
    "elif a>b:\n",
    "    print('a lebih besar dari b')"
   ]
  },
  {
   "cell_type": "code",
   "execution_count": 12,
   "id": "637ed851",
   "metadata": {},
   "outputs": [
    {
     "name": "stdout",
     "output_type": "stream",
     "text": [
      "a sama dengan b\n",
      "print kedua\n"
     ]
    }
   ],
   "source": [
    "if a==b: print('a sama dengan b'); print('print kedua')\n",
    "elif a>b: print('a lebih besar dari b')\n",
    "else: print('a lebih kecil dari b')"
   ]
  },
  {
   "cell_type": "code",
   "execution_count": 13,
   "id": "1dadc40b",
   "metadata": {},
   "outputs": [
    {
     "name": "stdout",
     "output_type": "stream",
     "text": [
      "Ayo pergi ke cafe\n"
     ]
    }
   ],
   "source": [
    "hujan = True\n",
    "\n",
    "# 'di luar hujan' if hujan else 'di luar cerah'\n",
    "\n",
    "print('Ayo pergi ke', 'pantai' if not hujan else 'cafe')"
   ]
  },
  {
   "cell_type": "code",
   "execution_count": 14,
   "id": "4598e38e",
   "metadata": {},
   "outputs": [
    {
     "data": {
      "text/plain": [
       "'belum punya KTP'"
      ]
     },
     "execution_count": 14,
     "metadata": {},
     "output_type": "execute_result"
    }
   ],
   "source": [
    "umur = 15\n",
    "\n",
    "if umur < 17:\n",
    "    status_ktp = 'belum punya KTP'\n",
    "else:\n",
    "    status_ktp = 'sudah punya KTP'\n",
    "\n",
    "\n",
    "status_ktp = 'belum punya KTP' if umur < 17 else 'sudah punya ktp'\n",
    "status_ktp"
   ]
  },
  {
   "cell_type": "code",
   "execution_count": 15,
   "id": "e55da904",
   "metadata": {},
   "outputs": [
    {
     "name": "stdout",
     "output_type": "stream",
     "text": [
      "50\n"
     ]
    }
   ],
   "source": [
    "a = 50\n",
    "b = 30\n",
    "\n",
    "if a>=b:\n",
    "    m = a\n",
    "else:\n",
    "    m = b\n",
    "\n",
    "print(m)"
   ]
  },
  {
   "cell_type": "code",
   "execution_count": 16,
   "id": "a8d9d960",
   "metadata": {},
   "outputs": [
    {
     "name": "stdout",
     "output_type": "stream",
     "text": [
      "masuk sini\n"
     ]
    }
   ],
   "source": [
    "if a > b:\n",
    "    pass\n",
    "\n",
    "print('masuk sini')"
   ]
  },
  {
   "cell_type": "code",
   "execution_count": 17,
   "id": "9d324ec1",
   "metadata": {},
   "outputs": [
    {
     "name": "stdout",
     "output_type": "stream",
     "text": [
      "ada foo\n",
      "ada a\n"
     ]
    }
   ],
   "source": [
    "if 'foo' in 'This is our foods':\n",
    "    print('ada foo')\n",
    "\n",
    "list1 = [10,20,30,40]\n",
    "\n",
    "if b in list1:\n",
    "    print('ada a')"
   ]
  },
  {
   "cell_type": "markdown",
   "id": "d9266b7a",
   "metadata": {},
   "source": [
    "# Looping"
   ]
  },
  {
   "cell_type": "markdown",
   "id": "690bbc89",
   "metadata": {},
   "source": [
    "## While Loop"
   ]
  },
  {
   "cell_type": "code",
   "execution_count": 18,
   "id": "df9039fa",
   "metadata": {},
   "outputs": [
    {
     "name": "stdout",
     "output_type": "stream",
     "text": [
      "10\n",
      "9\n",
      "8\n",
      "7\n",
      "6\n",
      "5\n",
      "4\n",
      "3\n",
      "2\n",
      "1\n"
     ]
    }
   ],
   "source": [
    "a = 10\n",
    "\n",
    "while a > 0:\n",
    "    print(a)\n",
    "    # a = a -1\n",
    "    a -= 1"
   ]
  },
  {
   "cell_type": "code",
   "execution_count": 19,
   "id": "f7890bd0",
   "metadata": {},
   "outputs": [
    {
     "name": "stdout",
     "output_type": "stream",
     "text": [
      "0\n",
      "2\n",
      "4\n",
      "6\n",
      "8\n"
     ]
    }
   ],
   "source": [
    "i = 0\n",
    "while i < 10:\n",
    "    print(i)\n",
    "    i += 2 # i = i + 2"
   ]
  },
  {
   "cell_type": "code",
   "execution_count": 20,
   "id": "83029178",
   "metadata": {},
   "outputs": [
    {
     "name": "stdout",
     "output_type": "stream",
     "text": [
      "0\n",
      "1\n",
      "2\n",
      "di luar loop\n"
     ]
    }
   ],
   "source": [
    "i = 0\n",
    "while i < 10:\n",
    "    if i == 3:\n",
    "        break\n",
    "    print(i)\n",
    "    i += 1 # i = i + 1\n",
    "\n",
    "print('di luar loop')"
   ]
  },
  {
   "cell_type": "code",
   "execution_count": 22,
   "id": "d74aade8",
   "metadata": {},
   "outputs": [
    {
     "name": "stdout",
     "output_type": "stream",
     "text": [
      "1\n",
      "2\n",
      "di luar loop\n"
     ]
    }
   ],
   "source": [
    "i = 0\n",
    "while i < 10:\n",
    "    i += 1 # i = i + 1\n",
    "    if i == 3:\n",
    "        break    \n",
    "    print(i)    \n",
    "\n",
    "print('di luar loop')"
   ]
  },
  {
   "cell_type": "code",
   "execution_count": 23,
   "id": "dabf3be0",
   "metadata": {},
   "outputs": [
    {
     "name": "stdout",
     "output_type": "stream",
     "text": [
      "0 0 0 0 0 0 0 0 0 0 \n",
      "1 1 1 1 1 1 1 1 1 1 \n",
      "2 2 2 2 2 2 2 2 2 2 \n",
      "3 3 3 3 3 3 3 3 3 3 \n",
      "4 4 4 4 4 4 4 4 4 4 \n",
      "5 5 5 5 5 5 5 5 5 5 \n",
      "6 6 6 6 6 6 6 6 6 6 \n",
      "7 7 7 7 7 7 7 7 7 7 \n",
      "8 8 8 8 8 8 8 8 8 8 \n",
      "9 9 9 9 9 9 9 9 9 9 \n"
     ]
    }
   ],
   "source": [
    "i = j = 0\n",
    "\n",
    "while i < 10:\n",
    "    j = 0\n",
    "    while j < 10:\n",
    "        print(i, end=' ')\n",
    "        j+=1\n",
    "    print()\n",
    "    i+=1"
   ]
  },
  {
   "cell_type": "code",
   "execution_count": 24,
   "id": "e0586868",
   "metadata": {},
   "outputs": [
    {
     "name": "stdout",
     "output_type": "stream",
     "text": [
      "1\n",
      "2\n",
      "di luar loop\n"
     ]
    }
   ],
   "source": [
    "i = 0\n",
    "while i < 10:\n",
    "    i += 1 # i = i + 1\n",
    "    if i == 3:\n",
    "        break    \n",
    "    print(i)\n",
    "else:\n",
    "    print('Akhir Loop')\n",
    "\n",
    "print('di luar loop')"
   ]
  },
  {
   "cell_type": "code",
   "execution_count": 25,
   "id": "46da4f2f",
   "metadata": {},
   "outputs": [
    {
     "name": "stdout",
     "output_type": "stream",
     "text": [
      "abc\n",
      "3\n",
      "def\n",
      "3\n",
      "hija\n",
      "4\n",
      "klm\n",
      "3\n"
     ]
    }
   ],
   "source": [
    "list2 = ['abc', 'def', 'hija', 'klm']\n",
    "\n",
    "for i in list2:\n",
    "    print(i)\n",
    "    print(len(i))"
   ]
  },
  {
   "cell_type": "code",
   "execution_count": 26,
   "id": "1f2e2610",
   "metadata": {},
   "outputs": [
    {
     "name": "stdout",
     "output_type": "stream",
     "text": [
      "pertama\n",
      "1\n",
      "kedua\n",
      "2\n",
      "ketiga\n",
      "3\n",
      "keempat\n",
      "4\n"
     ]
    }
   ],
   "source": [
    "dictionary1 = {\n",
    "    'pertama': 1,\n",
    "    'kedua': 2,\n",
    "    'ketiga': 3,\n",
    "    'keempat': 4\n",
    "}\n",
    "\n",
    "for key in dictionary1:\n",
    "    print(key)\n",
    "    print(dictionary1[key])"
   ]
  },
  {
   "cell_type": "code",
   "execution_count": 27,
   "id": "c9e14fb4",
   "metadata": {},
   "outputs": [
    {
     "name": "stdout",
     "output_type": "stream",
     "text": [
      "0\n",
      "1\n",
      "2\n",
      "3\n",
      "4\n"
     ]
    }
   ],
   "source": [
    "for number in (0,1,2,3,4):\n",
    "    print(number)"
   ]
  },
  {
   "cell_type": "code",
   "execution_count": 28,
   "id": "a8459768",
   "metadata": {},
   "outputs": [
    {
     "name": "stdout",
     "output_type": "stream",
     "text": [
      "0\n",
      "1\n",
      "2\n",
      "3\n",
      "4\n"
     ]
    }
   ],
   "source": [
    "for number in range(5):\n",
    "    print(number)"
   ]
  },
  {
   "cell_type": "code",
   "execution_count": 29,
   "id": "775875fe",
   "metadata": {},
   "outputs": [
    {
     "name": "stdout",
     "output_type": "stream",
     "text": [
      "0\n",
      "2\n",
      "4\n",
      "6\n",
      "8\n"
     ]
    }
   ],
   "source": [
    "for number in range(0,10,2):\n",
    "    print(number)"
   ]
  },
  {
   "cell_type": "code",
   "execution_count": 30,
   "id": "d7646060",
   "metadata": {},
   "outputs": [
    {
     "name": "stdout",
     "output_type": "stream",
     "text": [
      "1\n",
      "2\n"
     ]
    }
   ],
   "source": [
    "# i = 0\n",
    "# while i < 10:\n",
    "#     i += 1 # i = i + 1\n",
    "#     if i == 3:\n",
    "#         break    \n",
    "#     print(i)\n",
    "\n",
    "for i in range(1,11):\n",
    "    if i == 3:\n",
    "        break\n",
    "    print(i)"
   ]
  },
  {
   "cell_type": "code",
   "execution_count": 31,
   "id": "3c0d74be",
   "metadata": {},
   "outputs": [
    {
     "name": "stdout",
     "output_type": "stream",
     "text": [
      "1\n",
      "2\n",
      "4\n",
      "5\n",
      "6\n",
      "7\n",
      "8\n",
      "9\n",
      "10\n"
     ]
    }
   ],
   "source": [
    "for i in range(1,11):\n",
    "    if i == 3:\n",
    "        continue\n",
    "    print(i)"
   ]
  },
  {
   "cell_type": "code",
   "execution_count": 32,
   "id": "24e3431d",
   "metadata": {},
   "outputs": [
    {
     "name": "stdout",
     "output_type": "stream",
     "text": [
      "1\n",
      "2\n"
     ]
    }
   ],
   "source": [
    "for i in range(1,11):\n",
    "    if i == 3:\n",
    "        break\n",
    "    print(i)\n",
    "else:\n",
    "    print(\"Loop Selesai\")"
   ]
  },
  {
   "cell_type": "code",
   "execution_count": 33,
   "id": "0618066f",
   "metadata": {},
   "outputs": [
    {
     "name": "stdout",
     "output_type": "stream",
     "text": [
      "1\n",
      "2\n",
      "4\n",
      "5\n",
      "6\n",
      "7\n",
      "8\n",
      "9\n",
      "10\n",
      "Loop Selesai\n"
     ]
    }
   ],
   "source": [
    "for i in range(1,11):\n",
    "    if i == 3:\n",
    "        continue\n",
    "    print(i)\n",
    "else:\n",
    "    print(\"Loop Selesai\")"
   ]
  }
 ],
 "metadata": {
  "kernelspec": {
   "display_name": "Python 3 (ipykernel)",
   "language": "python",
   "name": "python3"
  },
  "language_info": {
   "codemirror_mode": {
    "name": "ipython",
    "version": 3
   },
   "file_extension": ".py",
   "mimetype": "text/x-python",
   "name": "python",
   "nbconvert_exporter": "python",
   "pygments_lexer": "ipython3",
   "version": "3.9.13"
  }
 },
 "nbformat": 4,
 "nbformat_minor": 5
}
